{
 "cells": [
  {
   "cell_type": "code",
   "execution_count": 1,
   "metadata": {},
   "outputs": [],
   "source": [
    "import json\n",
    "import pandas as pd\n",
    "import numpy as np\n",
    "import matplotlib.pyplot as plt\n",
    "from matplotlib.pyplot import figure\n",
    "\n",
    "%matplotlib inline"
   ]
  },
  {
   "cell_type": "markdown",
   "metadata": {},
   "source": [
    "# 1. Read Data from JSON File"
   ]
  },
  {
   "cell_type": "code",
   "execution_count": 2,
   "metadata": {},
   "outputs": [],
   "source": [
    "tr_data_json = json.load((open('../data/annotations/train.json')))\n",
    "v_data_json = json.load((open('../data/annotations/val.json')))\n",
    "te_data_json = json.load((open('../data/annotations/test.json')))"
   ]
  },
  {
   "cell_type": "markdown",
   "metadata": {},
   "source": [
    "# 2. Create Dataframe\n",
    "\n",
    "Create dataframes from training, validation, and test json files."
   ]
  },
  {
   "cell_type": "markdown",
   "metadata": {},
   "source": [
    "## 2.1 Dataset\n",
    "### 2.1.1 Training"
   ]
  },
  {
   "cell_type": "code",
   "execution_count": 3,
   "metadata": {},
   "outputs": [
    {
     "data": {
      "text/html": [
       "<div>\n",
       "<style scoped>\n",
       "    .dataframe tbody tr th:only-of-type {\n",
       "        vertical-align: middle;\n",
       "    }\n",
       "\n",
       "    .dataframe tbody tr th {\n",
       "        vertical-align: top;\n",
       "    }\n",
       "\n",
       "    .dataframe thead th {\n",
       "        text-align: right;\n",
       "    }\n",
       "</style>\n",
       "<table border=\"1\" class=\"dataframe\">\n",
       "  <thead>\n",
       "    <tr style=\"text-align: right;\">\n",
       "      <th></th>\n",
       "      <th>file_name</th>\n",
       "      <th>vizwiz_url</th>\n",
       "      <th>id</th>\n",
       "      <th>text_detected</th>\n",
       "    </tr>\n",
       "  </thead>\n",
       "  <tbody>\n",
       "    <tr>\n",
       "      <th>0</th>\n",
       "      <td>VizWiz_train_00000000.jpg</td>\n",
       "      <td>https://ivc.ischool.utexas.edu/VizWiz_visualiz...</td>\n",
       "      <td>0</td>\n",
       "      <td>True</td>\n",
       "    </tr>\n",
       "  </tbody>\n",
       "</table>\n",
       "</div>"
      ],
      "text/plain": [
       "                   file_name  \\\n",
       "0  VizWiz_train_00000000.jpg   \n",
       "\n",
       "                                          vizwiz_url  id  text_detected  \n",
       "0  https://ivc.ischool.utexas.edu/VizWiz_visualiz...   0           True  "
      ]
     },
     "execution_count": 3,
     "metadata": {},
     "output_type": "execute_result"
    }
   ],
   "source": [
    "tr_imgs = tr_data_json['images']\n",
    "tr_imgs_df = pd.DataFrame(tr_imgs)\n",
    "tr_imgs_df.head(1)"
   ]
  },
  {
   "cell_type": "code",
   "execution_count": 4,
   "metadata": {},
   "outputs": [
    {
     "data": {
      "text/html": [
       "<div>\n",
       "<style scoped>\n",
       "    .dataframe tbody tr th:only-of-type {\n",
       "        vertical-align: middle;\n",
       "    }\n",
       "\n",
       "    .dataframe tbody tr th {\n",
       "        vertical-align: top;\n",
       "    }\n",
       "\n",
       "    .dataframe thead th {\n",
       "        text-align: right;\n",
       "    }\n",
       "</style>\n",
       "<table border=\"1\" class=\"dataframe\">\n",
       "  <thead>\n",
       "    <tr style=\"text-align: right;\">\n",
       "      <th></th>\n",
       "      <th>file_name</th>\n",
       "      <th>img_url</th>\n",
       "      <th>img_id</th>\n",
       "      <th>img_txt_detected</th>\n",
       "    </tr>\n",
       "  </thead>\n",
       "  <tbody>\n",
       "    <tr>\n",
       "      <th>0</th>\n",
       "      <td>VizWiz_train_00000000.jpg</td>\n",
       "      <td>https://ivc.ischool.utexas.edu/VizWiz_visualiz...</td>\n",
       "      <td>0</td>\n",
       "      <td>True</td>\n",
       "    </tr>\n",
       "  </tbody>\n",
       "</table>\n",
       "</div>"
      ],
      "text/plain": [
       "                   file_name  \\\n",
       "0  VizWiz_train_00000000.jpg   \n",
       "\n",
       "                                             img_url  img_id  img_txt_detected  \n",
       "0  https://ivc.ischool.utexas.edu/VizWiz_visualiz...       0              True  "
      ]
     },
     "execution_count": 4,
     "metadata": {},
     "output_type": "execute_result"
    }
   ],
   "source": [
    "tr_imgs_df.rename(columns={'id': 'img_id', 'text_detected': 'img_txt_detected', 'vizwiz_url': 'img_url'}, inplace=True)\n",
    "tr_imgs_df.head(1)"
   ]
  },
  {
   "cell_type": "code",
   "execution_count": 5,
   "metadata": {},
   "outputs": [
    {
     "data": {
      "text/html": [
       "<div>\n",
       "<style scoped>\n",
       "    .dataframe tbody tr th:only-of-type {\n",
       "        vertical-align: middle;\n",
       "    }\n",
       "\n",
       "    .dataframe tbody tr th {\n",
       "        vertical-align: top;\n",
       "    }\n",
       "\n",
       "    .dataframe thead th {\n",
       "        text-align: right;\n",
       "    }\n",
       "</style>\n",
       "<table border=\"1\" class=\"dataframe\">\n",
       "  <thead>\n",
       "    <tr style=\"text-align: right;\">\n",
       "      <th></th>\n",
       "      <th>caption</th>\n",
       "      <th>image_id</th>\n",
       "      <th>is_precanned</th>\n",
       "      <th>is_rejected</th>\n",
       "      <th>id</th>\n",
       "      <th>text_detected</th>\n",
       "    </tr>\n",
       "  </thead>\n",
       "  <tbody>\n",
       "    <tr>\n",
       "      <th>0</th>\n",
       "      <td>ITS IS A BASIL LEAVES CONTAINER ITS CONTAINS T...</td>\n",
       "      <td>0</td>\n",
       "      <td>False</td>\n",
       "      <td>False</td>\n",
       "      <td>0</td>\n",
       "      <td>True</td>\n",
       "    </tr>\n",
       "  </tbody>\n",
       "</table>\n",
       "</div>"
      ],
      "text/plain": [
       "                                             caption  image_id  is_precanned  \\\n",
       "0  ITS IS A BASIL LEAVES CONTAINER ITS CONTAINS T...         0         False   \n",
       "\n",
       "   is_rejected  id  text_detected  \n",
       "0        False   0           True  "
      ]
     },
     "execution_count": 5,
     "metadata": {},
     "output_type": "execute_result"
    }
   ],
   "source": [
    "tr_captions = tr_data_json['annotations']\n",
    "tr_captions_df = pd.DataFrame(tr_captions)\n",
    "tr_captions_df.head(1)"
   ]
  },
  {
   "cell_type": "code",
   "execution_count": 6,
   "metadata": {},
   "outputs": [
    {
     "data": {
      "text/html": [
       "<div>\n",
       "<style scoped>\n",
       "    .dataframe tbody tr th:only-of-type {\n",
       "        vertical-align: middle;\n",
       "    }\n",
       "\n",
       "    .dataframe tbody tr th {\n",
       "        vertical-align: top;\n",
       "    }\n",
       "\n",
       "    .dataframe thead th {\n",
       "        text-align: right;\n",
       "    }\n",
       "</style>\n",
       "<table border=\"1\" class=\"dataframe\">\n",
       "  <thead>\n",
       "    <tr style=\"text-align: right;\">\n",
       "      <th></th>\n",
       "      <th>caption</th>\n",
       "      <th>img_id</th>\n",
       "      <th>is_precanned</th>\n",
       "      <th>is_rejected</th>\n",
       "      <th>caption_id</th>\n",
       "      <th>caption_txt_detected</th>\n",
       "    </tr>\n",
       "  </thead>\n",
       "  <tbody>\n",
       "    <tr>\n",
       "      <th>0</th>\n",
       "      <td>ITS IS A BASIL LEAVES CONTAINER ITS CONTAINS T...</td>\n",
       "      <td>0</td>\n",
       "      <td>False</td>\n",
       "      <td>False</td>\n",
       "      <td>0</td>\n",
       "      <td>True</td>\n",
       "    </tr>\n",
       "  </tbody>\n",
       "</table>\n",
       "</div>"
      ],
      "text/plain": [
       "                                             caption  img_id  is_precanned  \\\n",
       "0  ITS IS A BASIL LEAVES CONTAINER ITS CONTAINS T...       0         False   \n",
       "\n",
       "   is_rejected  caption_id  caption_txt_detected  \n",
       "0        False           0                  True  "
      ]
     },
     "execution_count": 6,
     "metadata": {},
     "output_type": "execute_result"
    }
   ],
   "source": [
    "tr_captions_df.rename(columns={'text_detected': 'caption_txt_detected', 'image_id': 'img_id', 'id': 'caption_id'}, inplace=True)\n",
    "tr_captions_df.head(1)"
   ]
  },
  {
   "cell_type": "markdown",
   "metadata": {},
   "source": [
    "### 2.1.2 Validation"
   ]
  },
  {
   "cell_type": "code",
   "execution_count": 7,
   "metadata": {},
   "outputs": [
    {
     "data": {
      "text/html": [
       "<div>\n",
       "<style scoped>\n",
       "    .dataframe tbody tr th:only-of-type {\n",
       "        vertical-align: middle;\n",
       "    }\n",
       "\n",
       "    .dataframe tbody tr th {\n",
       "        vertical-align: top;\n",
       "    }\n",
       "\n",
       "    .dataframe thead th {\n",
       "        text-align: right;\n",
       "    }\n",
       "</style>\n",
       "<table border=\"1\" class=\"dataframe\">\n",
       "  <thead>\n",
       "    <tr style=\"text-align: right;\">\n",
       "      <th></th>\n",
       "      <th>file_name</th>\n",
       "      <th>img_url</th>\n",
       "      <th>img_id</th>\n",
       "      <th>img_txt_detected</th>\n",
       "    </tr>\n",
       "  </thead>\n",
       "  <tbody>\n",
       "    <tr>\n",
       "      <th>0</th>\n",
       "      <td>VizWiz_val_00000000.jpg</td>\n",
       "      <td>https://ivc.ischool.utexas.edu/VizWiz_visualiz...</td>\n",
       "      <td>23431</td>\n",
       "      <td>True</td>\n",
       "    </tr>\n",
       "  </tbody>\n",
       "</table>\n",
       "</div>"
      ],
      "text/plain": [
       "                 file_name                                            img_url  \\\n",
       "0  VizWiz_val_00000000.jpg  https://ivc.ischool.utexas.edu/VizWiz_visualiz...   \n",
       "\n",
       "   img_id  img_txt_detected  \n",
       "0   23431              True  "
      ]
     },
     "execution_count": 7,
     "metadata": {},
     "output_type": "execute_result"
    }
   ],
   "source": [
    "v_imgs = v_data_json['images']\n",
    "v_imgs_df = pd.DataFrame(v_imgs)\n",
    "v_imgs_df.rename(columns={'id': 'img_id', 'text_detected': 'img_txt_detected', 'vizwiz_url': 'img_url'}, inplace=True)\n",
    "v_imgs_df.head(1)"
   ]
  },
  {
   "cell_type": "code",
   "execution_count": 8,
   "metadata": {},
   "outputs": [
    {
     "data": {
      "text/html": [
       "<div>\n",
       "<style scoped>\n",
       "    .dataframe tbody tr th:only-of-type {\n",
       "        vertical-align: middle;\n",
       "    }\n",
       "\n",
       "    .dataframe tbody tr th {\n",
       "        vertical-align: top;\n",
       "    }\n",
       "\n",
       "    .dataframe thead th {\n",
       "        text-align: right;\n",
       "    }\n",
       "</style>\n",
       "<table border=\"1\" class=\"dataframe\">\n",
       "  <thead>\n",
       "    <tr style=\"text-align: right;\">\n",
       "      <th></th>\n",
       "      <th>caption</th>\n",
       "      <th>img_id</th>\n",
       "      <th>is_precanned</th>\n",
       "      <th>is_rejected</th>\n",
       "      <th>caption_id</th>\n",
       "      <th>caption_txt_detected</th>\n",
       "    </tr>\n",
       "  </thead>\n",
       "  <tbody>\n",
       "    <tr>\n",
       "      <th>0</th>\n",
       "      <td>A computer screen shows a repair prompt on the...</td>\n",
       "      <td>23431</td>\n",
       "      <td>False</td>\n",
       "      <td>False</td>\n",
       "      <td>117155</td>\n",
       "      <td>True</td>\n",
       "    </tr>\n",
       "  </tbody>\n",
       "</table>\n",
       "</div>"
      ],
      "text/plain": [
       "                                             caption  img_id  is_precanned  \\\n",
       "0  A computer screen shows a repair prompt on the...   23431         False   \n",
       "\n",
       "   is_rejected  caption_id  caption_txt_detected  \n",
       "0        False      117155                  True  "
      ]
     },
     "execution_count": 8,
     "metadata": {},
     "output_type": "execute_result"
    }
   ],
   "source": [
    "v_captions = v_data_json['annotations']\n",
    "v_captions_df = pd.DataFrame(v_captions)\n",
    "v_captions_df.rename(columns={'text_detected': 'caption_txt_detected', 'image_id': 'img_id', 'id': 'caption_id'}, inplace=True)\n",
    "v_captions_df.head(1)"
   ]
  },
  {
   "cell_type": "markdown",
   "metadata": {},
   "source": [
    "### 2.1.3 Test"
   ]
  },
  {
   "cell_type": "code",
   "execution_count": 9,
   "metadata": {},
   "outputs": [
    {
     "data": {
      "text/html": [
       "<div>\n",
       "<style scoped>\n",
       "    .dataframe tbody tr th:only-of-type {\n",
       "        vertical-align: middle;\n",
       "    }\n",
       "\n",
       "    .dataframe tbody tr th {\n",
       "        vertical-align: top;\n",
       "    }\n",
       "\n",
       "    .dataframe thead th {\n",
       "        text-align: right;\n",
       "    }\n",
       "</style>\n",
       "<table border=\"1\" class=\"dataframe\">\n",
       "  <thead>\n",
       "    <tr style=\"text-align: right;\">\n",
       "      <th></th>\n",
       "      <th>file_name</th>\n",
       "      <th>img_url</th>\n",
       "      <th>img_id</th>\n",
       "      <th>img_txt_detected</th>\n",
       "    </tr>\n",
       "  </thead>\n",
       "  <tbody>\n",
       "    <tr>\n",
       "      <th>0</th>\n",
       "      <td>VizWiz_test_00000000.jpg</td>\n",
       "      <td>https://ivc.ischool.utexas.edu/VizWiz_visualiz...</td>\n",
       "      <td>31181</td>\n",
       "      <td>True</td>\n",
       "    </tr>\n",
       "  </tbody>\n",
       "</table>\n",
       "</div>"
      ],
      "text/plain": [
       "                  file_name  \\\n",
       "0  VizWiz_test_00000000.jpg   \n",
       "\n",
       "                                             img_url  img_id  img_txt_detected  \n",
       "0  https://ivc.ischool.utexas.edu/VizWiz_visualiz...   31181              True  "
      ]
     },
     "execution_count": 9,
     "metadata": {},
     "output_type": "execute_result"
    }
   ],
   "source": [
    "te_imgs = te_data_json['images']\n",
    "te_imgs_df = pd.DataFrame(te_imgs)\n",
    "te_imgs_df.rename(columns={'id': 'img_id', 'text_detected': 'img_txt_detected', 'vizwiz_url': 'img_url'}, inplace=True)\n",
    "te_imgs_df.head(1)"
   ]
  },
  {
   "cell_type": "markdown",
   "metadata": {},
   "source": [
    "## 2.2 Summary"
   ]
  },
  {
   "cell_type": "code",
   "execution_count": 10,
   "metadata": {},
   "outputs": [
    {
     "data": {
      "text/html": [
       "<div>\n",
       "<style scoped>\n",
       "    .dataframe tbody tr th:only-of-type {\n",
       "        vertical-align: middle;\n",
       "    }\n",
       "\n",
       "    .dataframe tbody tr th {\n",
       "        vertical-align: top;\n",
       "    }\n",
       "\n",
       "    .dataframe thead th {\n",
       "        text-align: right;\n",
       "    }\n",
       "</style>\n",
       "<table border=\"1\" class=\"dataframe\">\n",
       "  <thead>\n",
       "    <tr style=\"text-align: right;\">\n",
       "      <th></th>\n",
       "      <th>Images Dataset</th>\n",
       "      <th>Count</th>\n",
       "      <th>Image Attributes</th>\n",
       "    </tr>\n",
       "  </thead>\n",
       "  <tbody>\n",
       "    <tr>\n",
       "      <th>0</th>\n",
       "      <td>Training</td>\n",
       "      <td>23431</td>\n",
       "      <td>[file_name, img_url, img_id, img_txt_detected]</td>\n",
       "    </tr>\n",
       "    <tr>\n",
       "      <th>1</th>\n",
       "      <td>Validation</td>\n",
       "      <td>7750</td>\n",
       "      <td>[file_name, img_url, img_id, img_txt_detected]</td>\n",
       "    </tr>\n",
       "    <tr>\n",
       "      <th>2</th>\n",
       "      <td>Test</td>\n",
       "      <td>8000</td>\n",
       "      <td>[file_name, img_url, img_id, img_txt_detected]</td>\n",
       "    </tr>\n",
       "  </tbody>\n",
       "</table>\n",
       "</div>"
      ],
      "text/plain": [
       "  Images Dataset  Count                                Image Attributes\n",
       "0       Training  23431  [file_name, img_url, img_id, img_txt_detected]\n",
       "1     Validation   7750  [file_name, img_url, img_id, img_txt_detected]\n",
       "2           Test   8000  [file_name, img_url, img_id, img_txt_detected]"
      ]
     },
     "execution_count": 10,
     "metadata": {},
     "output_type": "execute_result"
    }
   ],
   "source": [
    "tr_imgs_info = [\"Training\", tr_imgs_df.shape[0], tr_imgs_df.columns.values] \n",
    "v_imgs_info = [\"Validation\", v_imgs_df.shape[0], v_imgs_df.columns.values]\n",
    "te_imgs_info = [\"Test\", te_imgs_df.shape[0], te_imgs_df.columns.values]\n",
    "\n",
    "imgs_data = [tr_imgs_info, v_imgs_info, te_imgs_info]\n",
    "pd.DataFrame(imgs_data, columns=[\"Images Dataset\", \"Count\", \"Image Attributes\"])"
   ]
  },
  {
   "cell_type": "markdown",
   "metadata": {},
   "source": [
    "Training dataset contains 23,431 images, validation dataset contains 7,750 images, and test dataset contains 8,000 images.\n",
    "\n",
    "<b> Metadata of images dataset: </b>\n",
    "\n",
    "- <b>img_id</b> <i>(type: int64)</i>: Image ID\n",
    "- <b>file_name</b> <i>(type: str)</i>: Name of the image file\n",
    "- <b>img_url</b> <i>(type: str)</i>: URL of the image\n",
    "- <b>img_txt_detected</b> <i>(type: bool)</i>: Presence of text in the image"
   ]
  },
  {
   "cell_type": "code",
   "execution_count": 11,
   "metadata": {},
   "outputs": [
    {
     "data": {
      "text/html": [
       "<div>\n",
       "<style scoped>\n",
       "    .dataframe tbody tr th:only-of-type {\n",
       "        vertical-align: middle;\n",
       "    }\n",
       "\n",
       "    .dataframe tbody tr th {\n",
       "        vertical-align: top;\n",
       "    }\n",
       "\n",
       "    .dataframe thead th {\n",
       "        text-align: right;\n",
       "    }\n",
       "</style>\n",
       "<table border=\"1\" class=\"dataframe\">\n",
       "  <thead>\n",
       "    <tr style=\"text-align: right;\">\n",
       "      <th></th>\n",
       "      <th>Captions Dataset</th>\n",
       "      <th>Count</th>\n",
       "      <th>Captions Per Image</th>\n",
       "      <th>Caption Attributes</th>\n",
       "    </tr>\n",
       "  </thead>\n",
       "  <tbody>\n",
       "    <tr>\n",
       "      <th>0</th>\n",
       "      <td>Training</td>\n",
       "      <td>117155</td>\n",
       "      <td>5</td>\n",
       "      <td>[caption, img_id, is_precanned, is_rejected, c...</td>\n",
       "    </tr>\n",
       "    <tr>\n",
       "      <th>1</th>\n",
       "      <td>Validation</td>\n",
       "      <td>38750</td>\n",
       "      <td>5</td>\n",
       "      <td>[caption, img_id, is_precanned, is_rejected, c...</td>\n",
       "    </tr>\n",
       "  </tbody>\n",
       "</table>\n",
       "</div>"
      ],
      "text/plain": [
       "  Captions Dataset   Count  Captions Per Image  \\\n",
       "0         Training  117155                   5   \n",
       "1       Validation   38750                   5   \n",
       "\n",
       "                                  Caption Attributes  \n",
       "0  [caption, img_id, is_precanned, is_rejected, c...  \n",
       "1  [caption, img_id, is_precanned, is_rejected, c...  "
      ]
     },
     "execution_count": 11,
     "metadata": {},
     "output_type": "execute_result"
    }
   ],
   "source": [
    "tr_captions_size_series = tr_captions_df.groupby('img_id').size()\n",
    "tr_captions_min, tr_captions_max = tr_captions_size_series.agg(['min', 'max'])\n",
    "tr_captions_per_img = 5 if tr_captions_min == 5 and tr_captions_max == 5 else np.nan\n",
    "\n",
    "v_captions_size_series = v_captions_df.groupby('img_id').size()\n",
    "v_captions_min, v_captions_max = v_captions_size_series.agg(['min', 'max'])\n",
    "v_captions_per_img = 5 if tr_captions_min == 5 and tr_captions_max == 5 else np.nan\n",
    "\n",
    "tr_captions_info = [\"Training\", tr_captions_df.shape[0], tr_captions_per_img, tr_captions_df.columns.values]\n",
    "v_captions_info = [\"Validation\", v_captions_df.shape[0], v_captions_per_img, v_captions_df.columns.values]\n",
    "\n",
    "captions_data = [tr_captions_info, v_captions_info]\n",
    "pd.DataFrame(captions_data, columns=[\"Captions Dataset\", \"Count\", \"Captions Per Image\", \"Caption Attributes\"])"
   ]
  },
  {
   "cell_type": "markdown",
   "metadata": {},
   "source": [
    "There are 117,155 captions in training dataset and 38,750 captions in validation dataset. Each image in training and validation dataset contains 5 captions.\n",
    "\n",
    "<b> Metadata of captions dataset: </b>\n",
    "\n",
    "- <b>caption_id</b> <i>(type: int64)</i>: Caption ID\n",
    "- <b>img_id</b> <i>(type: int64)</i>: ID of the image that is associated with the caption.\n",
    "- <b>caption</b> <i>(type: str)</i>: Caption of the image.\n",
    "- <b>caption_txt_detected</b> <i>(type: bool)</i>: Caption contains paraphrased description of text present in the image.\n",
    "- <b>is_precanned</b> <i>(type: bool)</i>: Contains the pre-canned text about insufficient quality images (“Quality issues are too severe…”). \n",
    "- <b>is_rejected</b> <i>(type: bool)</i>: Rejected caption."
   ]
  },
  {
   "cell_type": "markdown",
   "metadata": {},
   "source": [
    "# 3. Merge Dataframes\n",
    "\n",
    "Create a single dataframe that combines the information of images and its annotations.\n",
    "\n",
    "## 3.1 Dataset\n",
    "### 3.1.1 Training"
   ]
  },
  {
   "cell_type": "code",
   "execution_count": 12,
   "metadata": {},
   "outputs": [
    {
     "data": {
      "text/html": [
       "<div>\n",
       "<style scoped>\n",
       "    .dataframe tbody tr th:only-of-type {\n",
       "        vertical-align: middle;\n",
       "    }\n",
       "\n",
       "    .dataframe tbody tr th {\n",
       "        vertical-align: top;\n",
       "    }\n",
       "\n",
       "    .dataframe thead th {\n",
       "        text-align: right;\n",
       "    }\n",
       "</style>\n",
       "<table border=\"1\" class=\"dataframe\">\n",
       "  <thead>\n",
       "    <tr style=\"text-align: right;\">\n",
       "      <th></th>\n",
       "      <th>file_name</th>\n",
       "      <th>img_url</th>\n",
       "      <th>img_id</th>\n",
       "      <th>img_txt_detected</th>\n",
       "      <th>caption</th>\n",
       "      <th>is_precanned</th>\n",
       "      <th>is_rejected</th>\n",
       "      <th>caption_id</th>\n",
       "      <th>caption_txt_detected</th>\n",
       "    </tr>\n",
       "  </thead>\n",
       "  <tbody>\n",
       "    <tr>\n",
       "      <th>0</th>\n",
       "      <td>VizWiz_train_00000000.jpg</td>\n",
       "      <td>https://ivc.ischool.utexas.edu/VizWiz_visualiz...</td>\n",
       "      <td>0</td>\n",
       "      <td>True</td>\n",
       "      <td>ITS IS A BASIL LEAVES CONTAINER ITS CONTAINS T...</td>\n",
       "      <td>False</td>\n",
       "      <td>False</td>\n",
       "      <td>0</td>\n",
       "      <td>True</td>\n",
       "    </tr>\n",
       "  </tbody>\n",
       "</table>\n",
       "</div>"
      ],
      "text/plain": [
       "                   file_name  \\\n",
       "0  VizWiz_train_00000000.jpg   \n",
       "\n",
       "                                             img_url  img_id  \\\n",
       "0  https://ivc.ischool.utexas.edu/VizWiz_visualiz...       0   \n",
       "\n",
       "   img_txt_detected                                            caption  \\\n",
       "0              True  ITS IS A BASIL LEAVES CONTAINER ITS CONTAINS T...   \n",
       "\n",
       "   is_precanned  is_rejected  caption_id  caption_txt_detected  \n",
       "0         False        False           0                  True  "
      ]
     },
     "execution_count": 12,
     "metadata": {},
     "output_type": "execute_result"
    }
   ],
   "source": [
    "tr_merge_df = tr_imgs_df.merge(tr_captions_df, how='inner', on='img_id')\n",
    "tr_merge_df.head(1)"
   ]
  },
  {
   "cell_type": "markdown",
   "metadata": {},
   "source": [
    "### 3.1.2 Validation"
   ]
  },
  {
   "cell_type": "code",
   "execution_count": 13,
   "metadata": {},
   "outputs": [
    {
     "data": {
      "text/html": [
       "<div>\n",
       "<style scoped>\n",
       "    .dataframe tbody tr th:only-of-type {\n",
       "        vertical-align: middle;\n",
       "    }\n",
       "\n",
       "    .dataframe tbody tr th {\n",
       "        vertical-align: top;\n",
       "    }\n",
       "\n",
       "    .dataframe thead th {\n",
       "        text-align: right;\n",
       "    }\n",
       "</style>\n",
       "<table border=\"1\" class=\"dataframe\">\n",
       "  <thead>\n",
       "    <tr style=\"text-align: right;\">\n",
       "      <th></th>\n",
       "      <th>file_name</th>\n",
       "      <th>img_url</th>\n",
       "      <th>img_id</th>\n",
       "      <th>img_txt_detected</th>\n",
       "      <th>caption</th>\n",
       "      <th>is_precanned</th>\n",
       "      <th>is_rejected</th>\n",
       "      <th>caption_id</th>\n",
       "      <th>caption_txt_detected</th>\n",
       "    </tr>\n",
       "  </thead>\n",
       "  <tbody>\n",
       "    <tr>\n",
       "      <th>0</th>\n",
       "      <td>VizWiz_val_00000000.jpg</td>\n",
       "      <td>https://ivc.ischool.utexas.edu/VizWiz_visualiz...</td>\n",
       "      <td>23431</td>\n",
       "      <td>True</td>\n",
       "      <td>A computer screen shows a repair prompt on the...</td>\n",
       "      <td>False</td>\n",
       "      <td>False</td>\n",
       "      <td>117155</td>\n",
       "      <td>True</td>\n",
       "    </tr>\n",
       "  </tbody>\n",
       "</table>\n",
       "</div>"
      ],
      "text/plain": [
       "                 file_name                                            img_url  \\\n",
       "0  VizWiz_val_00000000.jpg  https://ivc.ischool.utexas.edu/VizWiz_visualiz...   \n",
       "\n",
       "   img_id  img_txt_detected  \\\n",
       "0   23431              True   \n",
       "\n",
       "                                             caption  is_precanned  \\\n",
       "0  A computer screen shows a repair prompt on the...         False   \n",
       "\n",
       "   is_rejected  caption_id  caption_txt_detected  \n",
       "0        False      117155                  True  "
      ]
     },
     "execution_count": 13,
     "metadata": {},
     "output_type": "execute_result"
    }
   ],
   "source": [
    "v_merge_df = v_imgs_df.merge(v_captions_df, how='inner', on='img_id')\n",
    "v_merge_df.head(1)"
   ]
  },
  {
   "cell_type": "markdown",
   "metadata": {},
   "source": [
    "# 4. Filter Data\n",
    "\n",
    "Delete captions that do not describe image properly.\n",
    "\n",
    "## 4.1 Dataset\n",
    "### 4.1.1 Training"
   ]
  },
  {
   "cell_type": "code",
   "execution_count": 14,
   "metadata": {},
   "outputs": [
    {
     "data": {
      "text/plain": [
       "(100491, 9)"
      ]
     },
     "execution_count": 14,
     "metadata": {},
     "output_type": "execute_result"
    }
   ],
   "source": [
    "tr_not_precanned_df = tr_merge_df.query('is_precanned == False')\n",
    "tr_not_rejected_df = tr_not_precanned_df.query('is_rejected == False')\n",
    "tr_captionable_df = tr_not_rejected_df[~tr_not_rejected_df.caption.str.contains('Quality issues are too severe', case=False)]\n",
    "tr_captionable_df.shape"
   ]
  },
  {
   "cell_type": "markdown",
   "metadata": {},
   "source": [
    "### 3.1.2 Validation"
   ]
  },
  {
   "cell_type": "code",
   "execution_count": 15,
   "metadata": {},
   "outputs": [
    {
     "data": {
      "text/plain": [
       "(33113, 9)"
      ]
     },
     "execution_count": 15,
     "metadata": {},
     "output_type": "execute_result"
    }
   ],
   "source": [
    "v_not_precanned_df = v_merge_df.query('is_precanned == False')\n",
    "v_not_rejected_df = v_not_precanned_df.query('is_rejected == False')\n",
    "v_captionable_df = v_not_rejected_df[~v_not_rejected_df.caption.str.contains('Quality issues are too severe', case=False)]\n",
    "v_captionable_df.shape"
   ]
  },
  {
   "cell_type": "markdown",
   "metadata": {},
   "source": [
    "## 5. Data Analysis\n",
    "\n",
    "## 5.1 Images and captions count\n",
    "Filtered dataset contains at least 1 and at most 5 captions per image. Find how many images have 5 captions, 4 captions, and so on.\n",
    "\n",
    "### 5.1.1 Training"
   ]
  },
  {
   "cell_type": "code",
   "execution_count": 16,
   "metadata": {},
   "outputs": [
    {
     "data": {
      "text/html": [
       "<div>\n",
       "<style scoped>\n",
       "    .dataframe tbody tr th:only-of-type {\n",
       "        vertical-align: middle;\n",
       "    }\n",
       "\n",
       "    .dataframe tbody tr th {\n",
       "        vertical-align: top;\n",
       "    }\n",
       "\n",
       "    .dataframe thead th {\n",
       "        text-align: right;\n",
       "    }\n",
       "</style>\n",
       "<table border=\"1\" class=\"dataframe\">\n",
       "  <thead>\n",
       "    <tr style=\"text-align: right;\">\n",
       "      <th></th>\n",
       "      <th>img_id</th>\n",
       "      <th>captions_count</th>\n",
       "    </tr>\n",
       "  </thead>\n",
       "  <tbody>\n",
       "    <tr>\n",
       "      <th>0</th>\n",
       "      <td>2047</td>\n",
       "      <td>5</td>\n",
       "    </tr>\n",
       "  </tbody>\n",
       "</table>\n",
       "</div>"
      ],
      "text/plain": [
       "   img_id  captions_count\n",
       "0    2047               5"
      ]
     },
     "execution_count": 16,
     "metadata": {},
     "output_type": "execute_result"
    }
   ],
   "source": [
    "tr_captions_count_per_image_series = tr_captionable_df['img_id'].value_counts()\n",
    "\n",
    "tr_captions_count_per_image_df = pd.DataFrame(tr_captions_count_per_image_series)\n",
    "tr_captions_count_per_image_df = tr_captions_count_per_image_df.reset_index()\n",
    "tr_captions_count_per_image_df.columns = ['img_id', 'captions_count']\n",
    "tr_captions_count_per_image_df.head(1)"
   ]
  },
  {
   "cell_type": "code",
   "execution_count": 17,
   "metadata": {},
   "outputs": [
    {
     "data": {
      "text/html": [
       "<div>\n",
       "<style scoped>\n",
       "    .dataframe tbody tr th:only-of-type {\n",
       "        vertical-align: middle;\n",
       "    }\n",
       "\n",
       "    .dataframe tbody tr th {\n",
       "        vertical-align: top;\n",
       "    }\n",
       "\n",
       "    .dataframe thead th {\n",
       "        text-align: right;\n",
       "    }\n",
       "</style>\n",
       "<table border=\"1\" class=\"dataframe\">\n",
       "  <thead>\n",
       "    <tr style=\"text-align: right;\">\n",
       "      <th></th>\n",
       "      <th>captions_count</th>\n",
       "      <th>total_images</th>\n",
       "    </tr>\n",
       "  </thead>\n",
       "  <tbody>\n",
       "    <tr>\n",
       "      <th>0</th>\n",
       "      <td>5</td>\n",
       "      <td>14782</td>\n",
       "    </tr>\n",
       "    <tr>\n",
       "      <th>1</th>\n",
       "      <td>4</td>\n",
       "      <td>4773</td>\n",
       "    </tr>\n",
       "    <tr>\n",
       "      <th>2</th>\n",
       "      <td>3</td>\n",
       "      <td>1653</td>\n",
       "    </tr>\n",
       "    <tr>\n",
       "      <th>3</th>\n",
       "      <td>2</td>\n",
       "      <td>908</td>\n",
       "    </tr>\n",
       "    <tr>\n",
       "      <th>4</th>\n",
       "      <td>1</td>\n",
       "      <td>714</td>\n",
       "    </tr>\n",
       "  </tbody>\n",
       "</table>\n",
       "</div>"
      ],
      "text/plain": [
       "   captions_count  total_images\n",
       "0               5         14782\n",
       "1               4          4773\n",
       "2               3          1653\n",
       "3               2           908\n",
       "4               1           714"
      ]
     },
     "execution_count": 17,
     "metadata": {},
     "output_type": "execute_result"
    }
   ],
   "source": [
    "tr_total_images_per_captions_count_series = tr_captions_count_per_image_df['captions_count'].value_counts()\n",
    "\n",
    "tr_total_images_per_captions_count_df = pd.DataFrame(tr_total_images_per_captions_count_series)\n",
    "tr_total_images_per_captions_count_df = tr_total_images_per_captions_count_df.reset_index()\n",
    "tr_total_images_per_captions_count_df.columns = ['captions_count', 'total_images']\n",
    "tr_total_images_per_captions_count_df"
   ]
  },
  {
   "cell_type": "markdown",
   "metadata": {},
   "source": [
    "### 5.1.2 Validation"
   ]
  },
  {
   "cell_type": "code",
   "execution_count": 18,
   "metadata": {},
   "outputs": [
    {
     "data": {
      "text/html": [
       "<div>\n",
       "<style scoped>\n",
       "    .dataframe tbody tr th:only-of-type {\n",
       "        vertical-align: middle;\n",
       "    }\n",
       "\n",
       "    .dataframe tbody tr th {\n",
       "        vertical-align: top;\n",
       "    }\n",
       "\n",
       "    .dataframe thead th {\n",
       "        text-align: right;\n",
       "    }\n",
       "</style>\n",
       "<table border=\"1\" class=\"dataframe\">\n",
       "  <thead>\n",
       "    <tr style=\"text-align: right;\">\n",
       "      <th></th>\n",
       "      <th>img_id</th>\n",
       "      <th>captions_count</th>\n",
       "    </tr>\n",
       "  </thead>\n",
       "  <tbody>\n",
       "    <tr>\n",
       "      <th>0</th>\n",
       "      <td>30657</td>\n",
       "      <td>5</td>\n",
       "    </tr>\n",
       "  </tbody>\n",
       "</table>\n",
       "</div>"
      ],
      "text/plain": [
       "   img_id  captions_count\n",
       "0   30657               5"
      ]
     },
     "execution_count": 18,
     "metadata": {},
     "output_type": "execute_result"
    }
   ],
   "source": [
    "v_captions_count_per_image_series = v_captionable_df['img_id'].value_counts()\n",
    "\n",
    "v_captions_count_per_image_df = pd.DataFrame(v_captions_count_per_image_series)\n",
    "v_captions_count_per_image_df = v_captions_count_per_image_df.reset_index()\n",
    "v_captions_count_per_image_df.columns = ['img_id', 'captions_count']\n",
    "v_captions_count_per_image_df.head(1)"
   ]
  },
  {
   "cell_type": "code",
   "execution_count": 19,
   "metadata": {},
   "outputs": [
    {
     "data": {
      "text/html": [
       "<div>\n",
       "<style scoped>\n",
       "    .dataframe tbody tr th:only-of-type {\n",
       "        vertical-align: middle;\n",
       "    }\n",
       "\n",
       "    .dataframe tbody tr th {\n",
       "        vertical-align: top;\n",
       "    }\n",
       "\n",
       "    .dataframe thead th {\n",
       "        text-align: right;\n",
       "    }\n",
       "</style>\n",
       "<table border=\"1\" class=\"dataframe\">\n",
       "  <thead>\n",
       "    <tr style=\"text-align: right;\">\n",
       "      <th></th>\n",
       "      <th>captions_count</th>\n",
       "      <th>total_images</th>\n",
       "    </tr>\n",
       "  </thead>\n",
       "  <tbody>\n",
       "    <tr>\n",
       "      <th>0</th>\n",
       "      <td>5</td>\n",
       "      <td>4917</td>\n",
       "    </tr>\n",
       "    <tr>\n",
       "      <th>1</th>\n",
       "      <td>4</td>\n",
       "      <td>1517</td>\n",
       "    </tr>\n",
       "    <tr>\n",
       "      <th>2</th>\n",
       "      <td>3</td>\n",
       "      <td>538</td>\n",
       "    </tr>\n",
       "    <tr>\n",
       "      <th>3</th>\n",
       "      <td>2</td>\n",
       "      <td>287</td>\n",
       "    </tr>\n",
       "    <tr>\n",
       "      <th>4</th>\n",
       "      <td>1</td>\n",
       "      <td>272</td>\n",
       "    </tr>\n",
       "  </tbody>\n",
       "</table>\n",
       "</div>"
      ],
      "text/plain": [
       "   captions_count  total_images\n",
       "0               5          4917\n",
       "1               4          1517\n",
       "2               3           538\n",
       "3               2           287\n",
       "4               1           272"
      ]
     },
     "execution_count": 19,
     "metadata": {},
     "output_type": "execute_result"
    }
   ],
   "source": [
    "v_total_images_per_captions_count_series = v_captions_count_per_image_df['captions_count'].value_counts()\n",
    "\n",
    "v_total_images_per_captions_count_df = pd.DataFrame(v_total_images_per_captions_count_series)\n",
    "v_total_images_per_captions_count_df = v_total_images_per_captions_count_df.reset_index()\n",
    "v_total_images_per_captions_count_df.columns = ['captions_count', 'total_images']\n",
    "v_total_images_per_captions_count_df"
   ]
  },
  {
   "cell_type": "markdown",
   "metadata": {},
   "source": [
    "## 5.2 Text detected in images\n",
    "\n",
    "### 5.2.1 Training"
   ]
  },
  {
   "cell_type": "code",
   "execution_count": 20,
   "metadata": {},
   "outputs": [
    {
     "name": "stdout",
     "output_type": "stream",
     "text": [
      "Training dataset has 14684 images that contain text and 8146 images that do not contain text.\n"
     ]
    }
   ],
   "source": [
    "tr_unique_images_df = tr_captionable_df.drop_duplicates(subset='img_id')\n",
    "tr_txt_images_count = tr_unique_images_df.query('img_txt_detected == True').shape[0]\n",
    "tr_no_txt_images_count = tr_unique_images_df.query('img_txt_detected == False').shape[0]\n",
    "print(f'Training dataset has {tr_txt_images_count} images that contain text and {tr_no_txt_images_count} images that do not contain text.')"
   ]
  },
  {
   "cell_type": "markdown",
   "metadata": {},
   "source": [
    "### 5.2.2 Validation"
   ]
  },
  {
   "cell_type": "code",
   "execution_count": 21,
   "metadata": {},
   "outputs": [
    {
     "name": "stdout",
     "output_type": "stream",
     "text": [
      "Validation dataset has 5008 images that contain text and 2523 images that do not contain text.\n"
     ]
    }
   ],
   "source": [
    "v_unique_images_df = v_captionable_df.drop_duplicates(subset='img_id')\n",
    "v_txt_images_count = v_unique_images_df.query('img_txt_detected == True').shape[0]\n",
    "v_no_txt_images_count = v_unique_images_df.query('img_txt_detected == False').shape[0]\n",
    "print(f'Validation dataset has {v_txt_images_count} images that contain text and {v_no_txt_images_count} images that do not contain text.')"
   ]
  },
  {
   "cell_type": "markdown",
   "metadata": {},
   "source": [
    "### 5.2.3 Test"
   ]
  },
  {
   "cell_type": "code",
   "execution_count": 22,
   "metadata": {},
   "outputs": [
    {
     "name": "stdout",
     "output_type": "stream",
     "text": [
      "Test dataset has 5008 images that contain text and 2523 images that do not contain text.\n"
     ]
    }
   ],
   "source": [
    "te_txt_images_count = te_imgs_df.query('img_txt_detected == True').shape[0]\n",
    "te_no_txt_images_count = te_imgs_df.query('img_txt_detected == False').shape[0]\n",
    "print(f'Test dataset has {v_txt_images_count} images that contain text and {v_no_txt_images_count} images that do not contain text.')"
   ]
  },
  {
   "cell_type": "markdown",
   "metadata": {},
   "source": [
    "## 5.3 How many captions describes text in the images?\n",
    "\n",
    "### 5.3.1 Training\n",
    "\n",
    "<b> a) Find images with text</b>"
   ]
  },
  {
   "cell_type": "code",
   "execution_count": 23,
   "metadata": {},
   "outputs": [
    {
     "data": {
      "text/html": [
       "<div>\n",
       "<style scoped>\n",
       "    .dataframe tbody tr th:only-of-type {\n",
       "        vertical-align: middle;\n",
       "    }\n",
       "\n",
       "    .dataframe tbody tr th {\n",
       "        vertical-align: top;\n",
       "    }\n",
       "\n",
       "    .dataframe thead th {\n",
       "        text-align: right;\n",
       "    }\n",
       "</style>\n",
       "<table border=\"1\" class=\"dataframe\">\n",
       "  <thead>\n",
       "    <tr style=\"text-align: right;\">\n",
       "      <th></th>\n",
       "      <th>file_name</th>\n",
       "      <th>img_url</th>\n",
       "      <th>img_id</th>\n",
       "      <th>img_txt_detected</th>\n",
       "      <th>caption</th>\n",
       "      <th>is_precanned</th>\n",
       "      <th>is_rejected</th>\n",
       "      <th>caption_id</th>\n",
       "      <th>caption_txt_detected</th>\n",
       "    </tr>\n",
       "  </thead>\n",
       "  <tbody>\n",
       "    <tr>\n",
       "      <th>0</th>\n",
       "      <td>VizWiz_train_00000000.jpg</td>\n",
       "      <td>https://ivc.ischool.utexas.edu/VizWiz_visualiz...</td>\n",
       "      <td>0</td>\n",
       "      <td>True</td>\n",
       "      <td>ITS IS A BASIL LEAVES CONTAINER ITS CONTAINS T...</td>\n",
       "      <td>False</td>\n",
       "      <td>False</td>\n",
       "      <td>0</td>\n",
       "      <td>True</td>\n",
       "    </tr>\n",
       "  </tbody>\n",
       "</table>\n",
       "</div>"
      ],
      "text/plain": [
       "                   file_name  \\\n",
       "0  VizWiz_train_00000000.jpg   \n",
       "\n",
       "                                             img_url  img_id  \\\n",
       "0  https://ivc.ischool.utexas.edu/VizWiz_visualiz...       0   \n",
       "\n",
       "   img_txt_detected                                            caption  \\\n",
       "0              True  ITS IS A BASIL LEAVES CONTAINER ITS CONTAINS T...   \n",
       "\n",
       "   is_precanned  is_rejected  caption_id  caption_txt_detected  \n",
       "0         False        False           0                  True  "
      ]
     },
     "execution_count": 23,
     "metadata": {},
     "output_type": "execute_result"
    }
   ],
   "source": [
    "tr_imgs_with_txt_df = tr_captionable_df.query('img_txt_detected == True')\n",
    "tr_imgs_with_txt_df.head(1)"
   ]
  },
  {
   "cell_type": "markdown",
   "metadata": {},
   "source": [
    "<b> 2) Find the number of captions that describes text in images </b>"
   ]
  },
  {
   "cell_type": "code",
   "execution_count": 24,
   "metadata": {},
   "outputs": [
    {
     "data": {
      "text/html": [
       "<div>\n",
       "<style scoped>\n",
       "    .dataframe tbody tr th:only-of-type {\n",
       "        vertical-align: middle;\n",
       "    }\n",
       "\n",
       "    .dataframe tbody tr th {\n",
       "        vertical-align: top;\n",
       "    }\n",
       "\n",
       "    .dataframe thead th {\n",
       "        text-align: right;\n",
       "    }\n",
       "</style>\n",
       "<table border=\"1\" class=\"dataframe\">\n",
       "  <thead>\n",
       "    <tr style=\"text-align: right;\">\n",
       "      <th></th>\n",
       "      <th>caption_txt_detected</th>\n",
       "    </tr>\n",
       "    <tr>\n",
       "      <th>img_id</th>\n",
       "      <th></th>\n",
       "    </tr>\n",
       "  </thead>\n",
       "  <tbody>\n",
       "    <tr>\n",
       "      <th>0</th>\n",
       "      <td>4</td>\n",
       "    </tr>\n",
       "  </tbody>\n",
       "</table>\n",
       "</div>"
      ],
      "text/plain": [
       "        caption_txt_detected\n",
       "img_id                      \n",
       "0                          4"
      ]
     },
     "execution_count": 24,
     "metadata": {},
     "output_type": "execute_result"
    }
   ],
   "source": [
    "tr_caption_with_txt_des_df = tr_captionable_df.query('caption_txt_detected == True')\n",
    "\n",
    "tr_caption_txt_detected_df = tr_caption_with_txt_des_df.groupby('img_id').size().to_frame('caption_txt_detected')\n",
    "tr_caption_txt_detected_df.head(1)"
   ]
  },
  {
   "cell_type": "markdown",
   "metadata": {},
   "source": [
    "<b> 3) Find the number of captions that do not describe text present in the image </b>"
   ]
  },
  {
   "cell_type": "code",
   "execution_count": 25,
   "metadata": {},
   "outputs": [
    {
     "data": {
      "text/html": [
       "<div>\n",
       "<style scoped>\n",
       "    .dataframe tbody tr th:only-of-type {\n",
       "        vertical-align: middle;\n",
       "    }\n",
       "\n",
       "    .dataframe tbody tr th {\n",
       "        vertical-align: top;\n",
       "    }\n",
       "\n",
       "    .dataframe thead th {\n",
       "        text-align: right;\n",
       "    }\n",
       "</style>\n",
       "<table border=\"1\" class=\"dataframe\">\n",
       "  <thead>\n",
       "    <tr style=\"text-align: right;\">\n",
       "      <th></th>\n",
       "      <th>caption_txt_not_detected</th>\n",
       "    </tr>\n",
       "    <tr>\n",
       "      <th>img_id</th>\n",
       "      <th></th>\n",
       "    </tr>\n",
       "  </thead>\n",
       "  <tbody>\n",
       "    <tr>\n",
       "      <th>3</th>\n",
       "      <td>1</td>\n",
       "    </tr>\n",
       "  </tbody>\n",
       "</table>\n",
       "</div>"
      ],
      "text/plain": [
       "        caption_txt_not_detected\n",
       "img_id                          \n",
       "3                              1"
      ]
     },
     "execution_count": 25,
     "metadata": {},
     "output_type": "execute_result"
    }
   ],
   "source": [
    "tr_caption_no_txt_des_df = tr_imgs_with_txt_df.query('caption_txt_detected == False')\n",
    "\n",
    "tr_caption_txt_not_detected_df = tr_caption_no_txt_des_df.groupby('img_id').size().to_frame('caption_txt_not_detected')\n",
    "tr_caption_txt_not_detected_df.head(1)"
   ]
  },
  {
   "cell_type": "markdown",
   "metadata": {},
   "source": [
    "<b> 4) Find the total number of \"text detected\" and \"text not detected\" captions per image <b>"
   ]
  },
  {
   "cell_type": "code",
   "execution_count": 26,
   "metadata": {},
   "outputs": [
    {
     "data": {
      "text/html": [
       "<div>\n",
       "<style scoped>\n",
       "    .dataframe tbody tr th:only-of-type {\n",
       "        vertical-align: middle;\n",
       "    }\n",
       "\n",
       "    .dataframe tbody tr th {\n",
       "        vertical-align: top;\n",
       "    }\n",
       "\n",
       "    .dataframe thead th {\n",
       "        text-align: right;\n",
       "    }\n",
       "</style>\n",
       "<table border=\"1\" class=\"dataframe\">\n",
       "  <thead>\n",
       "    <tr style=\"text-align: right;\">\n",
       "      <th></th>\n",
       "      <th>caption_txt_detected</th>\n",
       "      <th>caption_txt_not_detected</th>\n",
       "    </tr>\n",
       "    <tr>\n",
       "      <th>img_id</th>\n",
       "      <th></th>\n",
       "      <th></th>\n",
       "    </tr>\n",
       "  </thead>\n",
       "  <tbody>\n",
       "    <tr>\n",
       "      <th>0</th>\n",
       "      <td>4</td>\n",
       "      <td>0</td>\n",
       "    </tr>\n",
       "  </tbody>\n",
       "</table>\n",
       "</div>"
      ],
      "text/plain": [
       "        caption_txt_detected  caption_txt_not_detected\n",
       "img_id                                                \n",
       "0                          4                         0"
      ]
     },
     "execution_count": 26,
     "metadata": {},
     "output_type": "execute_result"
    }
   ],
   "source": [
    "tr_caption_txt_detected_df['caption_txt_not_detected'] = tr_caption_txt_not_detected_df['caption_txt_not_detected']\n",
    "tr_caption_txt_detected_df.fillna(0, inplace=True)\n",
    "tr_caption_txt_detected_df = tr_caption_txt_detected_df.astype({'caption_txt_not_detected': 'int32'})\n",
    "tr_caption_txt_detected_df.head(1)"
   ]
  },
  {
   "cell_type": "markdown",
   "metadata": {},
   "source": [
    "<b> 5) Find the number of images with two classification of captions </b>"
   ]
  },
  {
   "cell_type": "code",
   "execution_count": 27,
   "metadata": {},
   "outputs": [
    {
     "data": {
      "text/html": [
       "<div>\n",
       "<style scoped>\n",
       "    .dataframe tbody tr th:only-of-type {\n",
       "        vertical-align: middle;\n",
       "    }\n",
       "\n",
       "    .dataframe tbody tr th {\n",
       "        vertical-align: top;\n",
       "    }\n",
       "\n",
       "    .dataframe thead th {\n",
       "        text-align: right;\n",
       "    }\n",
       "</style>\n",
       "<table border=\"1\" class=\"dataframe\">\n",
       "  <thead>\n",
       "    <tr style=\"text-align: right;\">\n",
       "      <th></th>\n",
       "      <th></th>\n",
       "      <th>images_count</th>\n",
       "    </tr>\n",
       "    <tr>\n",
       "      <th>caption_txt_detected</th>\n",
       "      <th>caption_txt_not_detected</th>\n",
       "      <th></th>\n",
       "    </tr>\n",
       "  </thead>\n",
       "  <tbody>\n",
       "    <tr>\n",
       "      <th rowspan=\"3\" valign=\"top\">1</th>\n",
       "      <th>0</th>\n",
       "      <td>1062</td>\n",
       "    </tr>\n",
       "    <tr>\n",
       "      <th>1</th>\n",
       "      <td>32</td>\n",
       "    </tr>\n",
       "    <tr>\n",
       "      <th>2</th>\n",
       "      <td>12</td>\n",
       "    </tr>\n",
       "    <tr>\n",
       "      <th rowspan=\"3\" valign=\"top\">2</th>\n",
       "      <th>0</th>\n",
       "      <td>809</td>\n",
       "    </tr>\n",
       "    <tr>\n",
       "      <th>1</th>\n",
       "      <td>118</td>\n",
       "    </tr>\n",
       "    <tr>\n",
       "      <th>2</th>\n",
       "      <td>104</td>\n",
       "    </tr>\n",
       "    <tr>\n",
       "      <th rowspan=\"3\" valign=\"top\">3</th>\n",
       "      <th>0</th>\n",
       "      <td>682</td>\n",
       "    </tr>\n",
       "    <tr>\n",
       "      <th>1</th>\n",
       "      <td>511</td>\n",
       "    </tr>\n",
       "    <tr>\n",
       "      <th>2</th>\n",
       "      <td>578</td>\n",
       "    </tr>\n",
       "    <tr>\n",
       "      <th rowspan=\"2\" valign=\"top\">4</th>\n",
       "      <th>0</th>\n",
       "      <td>2383</td>\n",
       "    </tr>\n",
       "    <tr>\n",
       "      <th>1</th>\n",
       "      <td>1631</td>\n",
       "    </tr>\n",
       "    <tr>\n",
       "      <th>5</th>\n",
       "      <th>0</th>\n",
       "      <td>8339</td>\n",
       "    </tr>\n",
       "  </tbody>\n",
       "</table>\n",
       "</div>"
      ],
      "text/plain": [
       "                                               images_count\n",
       "caption_txt_detected caption_txt_not_detected              \n",
       "1                    0                                 1062\n",
       "                     1                                   32\n",
       "                     2                                   12\n",
       "2                    0                                  809\n",
       "                     1                                  118\n",
       "                     2                                  104\n",
       "3                    0                                  682\n",
       "                     1                                  511\n",
       "                     2                                  578\n",
       "4                    0                                 2383\n",
       "                     1                                 1631\n",
       "5                    0                                 8339"
      ]
     },
     "execution_count": 27,
     "metadata": {},
     "output_type": "execute_result"
    }
   ],
   "source": [
    "tr_caption_classify_grp = tr_caption_txt_detected_df.groupby(['caption_txt_detected', 'caption_txt_not_detected'])\n",
    "tr_caption_classify_dp = tr_caption_classify_grp.size().to_frame('images_count')\n",
    "tr_caption_classify_dp.head(12)"
   ]
  },
  {
   "cell_type": "markdown",
   "metadata": {},
   "source": [
    "### 5.3.2 Validation\n",
    "\n",
    "<b> 1) Find images with text </b>"
   ]
  },
  {
   "cell_type": "code",
   "execution_count": 28,
   "metadata": {},
   "outputs": [
    {
     "data": {
      "text/html": [
       "<div>\n",
       "<style scoped>\n",
       "    .dataframe tbody tr th:only-of-type {\n",
       "        vertical-align: middle;\n",
       "    }\n",
       "\n",
       "    .dataframe tbody tr th {\n",
       "        vertical-align: top;\n",
       "    }\n",
       "\n",
       "    .dataframe thead th {\n",
       "        text-align: right;\n",
       "    }\n",
       "</style>\n",
       "<table border=\"1\" class=\"dataframe\">\n",
       "  <thead>\n",
       "    <tr style=\"text-align: right;\">\n",
       "      <th></th>\n",
       "      <th>file_name</th>\n",
       "      <th>img_url</th>\n",
       "      <th>img_id</th>\n",
       "      <th>img_txt_detected</th>\n",
       "      <th>caption</th>\n",
       "      <th>is_precanned</th>\n",
       "      <th>is_rejected</th>\n",
       "      <th>caption_id</th>\n",
       "      <th>caption_txt_detected</th>\n",
       "    </tr>\n",
       "  </thead>\n",
       "  <tbody>\n",
       "    <tr>\n",
       "      <th>0</th>\n",
       "      <td>VizWiz_val_00000000.jpg</td>\n",
       "      <td>https://ivc.ischool.utexas.edu/VizWiz_visualiz...</td>\n",
       "      <td>23431</td>\n",
       "      <td>True</td>\n",
       "      <td>A computer screen shows a repair prompt on the...</td>\n",
       "      <td>False</td>\n",
       "      <td>False</td>\n",
       "      <td>117155</td>\n",
       "      <td>True</td>\n",
       "    </tr>\n",
       "  </tbody>\n",
       "</table>\n",
       "</div>"
      ],
      "text/plain": [
       "                 file_name                                            img_url  \\\n",
       "0  VizWiz_val_00000000.jpg  https://ivc.ischool.utexas.edu/VizWiz_visualiz...   \n",
       "\n",
       "   img_id  img_txt_detected  \\\n",
       "0   23431              True   \n",
       "\n",
       "                                             caption  is_precanned  \\\n",
       "0  A computer screen shows a repair prompt on the...         False   \n",
       "\n",
       "   is_rejected  caption_id  caption_txt_detected  \n",
       "0        False      117155                  True  "
      ]
     },
     "execution_count": 28,
     "metadata": {},
     "output_type": "execute_result"
    }
   ],
   "source": [
    "v_imgs_with_txt_df = v_captionable_df.query('img_txt_detected == True')\n",
    "v_imgs_with_txt_df.head(1)"
   ]
  },
  {
   "cell_type": "markdown",
   "metadata": {},
   "source": [
    "<b> 2) Find the number of captions that describes text in images </b>"
   ]
  },
  {
   "cell_type": "code",
   "execution_count": 29,
   "metadata": {},
   "outputs": [
    {
     "data": {
      "text/html": [
       "<div>\n",
       "<style scoped>\n",
       "    .dataframe tbody tr th:only-of-type {\n",
       "        vertical-align: middle;\n",
       "    }\n",
       "\n",
       "    .dataframe tbody tr th {\n",
       "        vertical-align: top;\n",
       "    }\n",
       "\n",
       "    .dataframe thead th {\n",
       "        text-align: right;\n",
       "    }\n",
       "</style>\n",
       "<table border=\"1\" class=\"dataframe\">\n",
       "  <thead>\n",
       "    <tr style=\"text-align: right;\">\n",
       "      <th></th>\n",
       "      <th>caption_txt_detected</th>\n",
       "    </tr>\n",
       "    <tr>\n",
       "      <th>img_id</th>\n",
       "      <th></th>\n",
       "    </tr>\n",
       "  </thead>\n",
       "  <tbody>\n",
       "    <tr>\n",
       "      <th>23431</th>\n",
       "      <td>5</td>\n",
       "    </tr>\n",
       "  </tbody>\n",
       "</table>\n",
       "</div>"
      ],
      "text/plain": [
       "        caption_txt_detected\n",
       "img_id                      \n",
       "23431                      5"
      ]
     },
     "execution_count": 29,
     "metadata": {},
     "output_type": "execute_result"
    }
   ],
   "source": [
    "v_caption_with_txt_des_df = v_captionable_df.query('caption_txt_detected == True')\n",
    "\n",
    "v_caption_txt_detected_df = v_caption_with_txt_des_df.groupby('img_id').size().to_frame('caption_txt_detected')\n",
    "v_caption_txt_detected_df.head(1)"
   ]
  },
  {
   "cell_type": "markdown",
   "metadata": {},
   "source": [
    "<b> 3) Find the number of captions that do not describe text present in the image </b>"
   ]
  },
  {
   "cell_type": "code",
   "execution_count": 30,
   "metadata": {},
   "outputs": [
    {
     "data": {
      "text/html": [
       "<div>\n",
       "<style scoped>\n",
       "    .dataframe tbody tr th:only-of-type {\n",
       "        vertical-align: middle;\n",
       "    }\n",
       "\n",
       "    .dataframe tbody tr th {\n",
       "        vertical-align: top;\n",
       "    }\n",
       "\n",
       "    .dataframe thead th {\n",
       "        text-align: right;\n",
       "    }\n",
       "</style>\n",
       "<table border=\"1\" class=\"dataframe\">\n",
       "  <thead>\n",
       "    <tr style=\"text-align: right;\">\n",
       "      <th></th>\n",
       "      <th>caption_txt_not_detected</th>\n",
       "    </tr>\n",
       "    <tr>\n",
       "      <th>img_id</th>\n",
       "      <th></th>\n",
       "    </tr>\n",
       "  </thead>\n",
       "  <tbody>\n",
       "    <tr>\n",
       "      <th>23436</th>\n",
       "      <td>1</td>\n",
       "    </tr>\n",
       "  </tbody>\n",
       "</table>\n",
       "</div>"
      ],
      "text/plain": [
       "        caption_txt_not_detected\n",
       "img_id                          \n",
       "23436                          1"
      ]
     },
     "execution_count": 30,
     "metadata": {},
     "output_type": "execute_result"
    }
   ],
   "source": [
    "v_caption_no_txt_des_df = v_imgs_with_txt_df.query('caption_txt_detected == False')\n",
    "\n",
    "v_caption_txt_not_detected_df = v_caption_no_txt_des_df.groupby('img_id').size().to_frame('caption_txt_not_detected')\n",
    "v_caption_txt_not_detected_df.head(1)"
   ]
  },
  {
   "cell_type": "markdown",
   "metadata": {},
   "source": [
    "<b> 4) Find the total number of \"text detected\" and \"text not detected\" captions per image </b>"
   ]
  },
  {
   "cell_type": "code",
   "execution_count": 31,
   "metadata": {},
   "outputs": [
    {
     "data": {
      "text/html": [
       "<div>\n",
       "<style scoped>\n",
       "    .dataframe tbody tr th:only-of-type {\n",
       "        vertical-align: middle;\n",
       "    }\n",
       "\n",
       "    .dataframe tbody tr th {\n",
       "        vertical-align: top;\n",
       "    }\n",
       "\n",
       "    .dataframe thead th {\n",
       "        text-align: right;\n",
       "    }\n",
       "</style>\n",
       "<table border=\"1\" class=\"dataframe\">\n",
       "  <thead>\n",
       "    <tr style=\"text-align: right;\">\n",
       "      <th></th>\n",
       "      <th>caption_txt_detected</th>\n",
       "      <th>caption_txt_not_detected</th>\n",
       "    </tr>\n",
       "    <tr>\n",
       "      <th>img_id</th>\n",
       "      <th></th>\n",
       "      <th></th>\n",
       "    </tr>\n",
       "  </thead>\n",
       "  <tbody>\n",
       "    <tr>\n",
       "      <th>23431</th>\n",
       "      <td>5</td>\n",
       "      <td>0</td>\n",
       "    </tr>\n",
       "  </tbody>\n",
       "</table>\n",
       "</div>"
      ],
      "text/plain": [
       "        caption_txt_detected  caption_txt_not_detected\n",
       "img_id                                                \n",
       "23431                      5                         0"
      ]
     },
     "execution_count": 31,
     "metadata": {},
     "output_type": "execute_result"
    }
   ],
   "source": [
    "v_caption_txt_detected_df['caption_txt_not_detected'] = v_caption_txt_not_detected_df['caption_txt_not_detected']\n",
    "v_caption_txt_detected_df.fillna(0, inplace=True)\n",
    "v_caption_txt_detected_df = v_caption_txt_detected_df.astype({'caption_txt_not_detected': 'int32'})\n",
    "v_caption_txt_detected_df.head(1)"
   ]
  },
  {
   "cell_type": "markdown",
   "metadata": {},
   "source": [
    "<b> 5) Find the number of images with two classification of captions </b>"
   ]
  },
  {
   "cell_type": "code",
   "execution_count": 32,
   "metadata": {},
   "outputs": [
    {
     "data": {
      "text/html": [
       "<div>\n",
       "<style scoped>\n",
       "    .dataframe tbody tr th:only-of-type {\n",
       "        vertical-align: middle;\n",
       "    }\n",
       "\n",
       "    .dataframe tbody tr th {\n",
       "        vertical-align: top;\n",
       "    }\n",
       "\n",
       "    .dataframe thead th {\n",
       "        text-align: right;\n",
       "    }\n",
       "</style>\n",
       "<table border=\"1\" class=\"dataframe\">\n",
       "  <thead>\n",
       "    <tr style=\"text-align: right;\">\n",
       "      <th></th>\n",
       "      <th></th>\n",
       "      <th>images_count</th>\n",
       "    </tr>\n",
       "    <tr>\n",
       "      <th>caption_txt_detected</th>\n",
       "      <th>caption_txt_not_detected</th>\n",
       "      <th></th>\n",
       "    </tr>\n",
       "  </thead>\n",
       "  <tbody>\n",
       "    <tr>\n",
       "      <th rowspan=\"3\" valign=\"top\">1</th>\n",
       "      <th>0</th>\n",
       "      <td>345</td>\n",
       "    </tr>\n",
       "    <tr>\n",
       "      <th>1</th>\n",
       "      <td>9</td>\n",
       "    </tr>\n",
       "    <tr>\n",
       "      <th>2</th>\n",
       "      <td>3</td>\n",
       "    </tr>\n",
       "    <tr>\n",
       "      <th rowspan=\"3\" valign=\"top\">2</th>\n",
       "      <th>0</th>\n",
       "      <td>289</td>\n",
       "    </tr>\n",
       "    <tr>\n",
       "      <th>1</th>\n",
       "      <td>41</td>\n",
       "    </tr>\n",
       "    <tr>\n",
       "      <th>2</th>\n",
       "      <td>31</td>\n",
       "    </tr>\n",
       "    <tr>\n",
       "      <th rowspan=\"3\" valign=\"top\">3</th>\n",
       "      <th>0</th>\n",
       "      <td>222</td>\n",
       "    </tr>\n",
       "    <tr>\n",
       "      <th>1</th>\n",
       "      <td>174</td>\n",
       "    </tr>\n",
       "    <tr>\n",
       "      <th>2</th>\n",
       "      <td>207</td>\n",
       "    </tr>\n",
       "    <tr>\n",
       "      <th rowspan=\"2\" valign=\"top\">4</th>\n",
       "      <th>0</th>\n",
       "      <td>767</td>\n",
       "    </tr>\n",
       "    <tr>\n",
       "      <th>1</th>\n",
       "      <td>561</td>\n",
       "    </tr>\n",
       "    <tr>\n",
       "      <th>5</th>\n",
       "      <th>0</th>\n",
       "      <td>2882</td>\n",
       "    </tr>\n",
       "  </tbody>\n",
       "</table>\n",
       "</div>"
      ],
      "text/plain": [
       "                                               images_count\n",
       "caption_txt_detected caption_txt_not_detected              \n",
       "1                    0                                  345\n",
       "                     1                                    9\n",
       "                     2                                    3\n",
       "2                    0                                  289\n",
       "                     1                                   41\n",
       "                     2                                   31\n",
       "3                    0                                  222\n",
       "                     1                                  174\n",
       "                     2                                  207\n",
       "4                    0                                  767\n",
       "                     1                                  561\n",
       "5                    0                                 2882"
      ]
     },
     "execution_count": 32,
     "metadata": {},
     "output_type": "execute_result"
    }
   ],
   "source": [
    "v_caption_classify_grp = v_caption_txt_detected_df.groupby(['caption_txt_detected', 'caption_txt_not_detected'])\n",
    "v_caption_classify_dp = v_caption_classify_grp.size().to_frame('images_count')\n",
    "v_caption_classify_dp.head(12)"
   ]
  },
  {
   "cell_type": "markdown",
   "metadata": {},
   "source": [
    "# 6. Data Visualization\n",
    "\n",
    "## 6.1 No. of images per captions count"
   ]
  },
  {
   "cell_type": "code",
   "execution_count": 33,
   "metadata": {},
   "outputs": [
    {
     "data": {
      "image/png": "[encoded data removed]",
      "text/plain": [
       "<Figure size 1080x432 with 2 Axes>"
      ]
     },
     "metadata": {
      "needs_background": "light"
     },
     "output_type": "display_data"
    }
   ],
   "source": [
    "figure(num=None, figsize=(15, 6))\n",
    "\n",
    "plt.subplot(1, 2, 1)\n",
    "plt.bar(tr_total_images_per_captions_count_df.captions_count, tr_total_images_per_captions_count_df.total_images)\n",
    "plt.title('Training dataset - No. of images per captions count')\n",
    "plt.xlabel(\"Captions count\")\n",
    "plt.ylabel(\"No. of images\")\n",
    "\n",
    "plt.subplot(1, 2, 2)\n",
    "plt.bar(v_total_images_per_captions_count_df.captions_count, v_total_images_per_captions_count_df.total_images)\n",
    "plt.title('Validation dataset - No. of images per captions count')\n",
    "plt.xlabel(\"Captions count\")\n",
    "plt.ylabel(\"No. of images\")\n",
    "\n",
    "plt.show()"
   ]
  },
  {
   "cell_type": "markdown",
   "metadata": {},
   "source": [
    "## 6.2 Text detected in images"
   ]
  },
  {
   "cell_type": "code",
   "execution_count": 34,
   "metadata": {},
   "outputs": [
    {
     "data": {
      "image/png": "[encoded data removed]",
      "text/plain": [
       "<Figure size 1080x432 with 3 Axes>"
      ]
     },
     "metadata": {},
     "output_type": "display_data"
    }
   ],
   "source": [
    "figure(num=None, figsize=(15, 6))\n",
    "\n",
    "plt.subplot(1, 3, 1)\n",
    "plt.pie([tr_txt_images_count, tr_no_txt_images_count], labels=['Yes', 'No'],\n",
    "       autopct='%1.1f%%')\n",
    "plt.title('Training Dataset - Text detected in images');\n",
    "\n",
    "plt.subplot(1, 3, 2)\n",
    "plt.pie([v_txt_images_count, v_no_txt_images_count], labels=['Yes', 'No'],\n",
    "       autopct='%1.1f%%')\n",
    "plt.title('Validation Dataset - Text detected in images');\n",
    "\n",
    "plt.subplot(1, 3, 3)\n",
    "plt.pie([te_txt_images_count, te_no_txt_images_count], labels=['Yes', 'No'],\n",
    "       autopct='%1.1f%%')\n",
    "plt.title('Test Dataset - Text detected in images');\n",
    "\n",
    "plt.show()"
   ]
  },
  {
   "cell_type": "markdown",
   "metadata": {},
   "source": [
    "## 6.3 How many captions describe text in the images?\n",
    "\n",
    "### 6.3.1 Training"
   ]
  },
  {
   "cell_type": "code",
   "execution_count": 35,
   "metadata": {},
   "outputs": [
    {
     "data": {
      "text/html": [
       "<div>\n",
       "<style scoped>\n",
       "    .dataframe tbody tr th:only-of-type {\n",
       "        vertical-align: middle;\n",
       "    }\n",
       "\n",
       "    .dataframe tbody tr th {\n",
       "        vertical-align: top;\n",
       "    }\n",
       "\n",
       "    .dataframe thead tr th {\n",
       "        text-align: left;\n",
       "    }\n",
       "\n",
       "    .dataframe thead tr:last-of-type th {\n",
       "        text-align: right;\n",
       "    }\n",
       "</style>\n",
       "<table border=\"1\" class=\"dataframe\">\n",
       "  <thead>\n",
       "    <tr>\n",
       "      <th></th>\n",
       "      <th colspan=\"3\" halign=\"left\">images_count</th>\n",
       "    </tr>\n",
       "    <tr>\n",
       "      <th>caption_txt_not_detected</th>\n",
       "      <th>0</th>\n",
       "      <th>1</th>\n",
       "      <th>2</th>\n",
       "    </tr>\n",
       "    <tr>\n",
       "      <th>caption_txt_detected</th>\n",
       "      <th></th>\n",
       "      <th></th>\n",
       "      <th></th>\n",
       "    </tr>\n",
       "  </thead>\n",
       "  <tbody>\n",
       "    <tr>\n",
       "      <th>1</th>\n",
       "      <td>1062.0</td>\n",
       "      <td>32.0</td>\n",
       "      <td>12.0</td>\n",
       "    </tr>\n",
       "    <tr>\n",
       "      <th>2</th>\n",
       "      <td>809.0</td>\n",
       "      <td>118.0</td>\n",
       "      <td>104.0</td>\n",
       "    </tr>\n",
       "    <tr>\n",
       "      <th>3</th>\n",
       "      <td>682.0</td>\n",
       "      <td>511.0</td>\n",
       "      <td>578.0</td>\n",
       "    </tr>\n",
       "    <tr>\n",
       "      <th>4</th>\n",
       "      <td>2383.0</td>\n",
       "      <td>1631.0</td>\n",
       "      <td>NaN</td>\n",
       "    </tr>\n",
       "    <tr>\n",
       "      <th>5</th>\n",
       "      <td>8339.0</td>\n",
       "      <td>NaN</td>\n",
       "      <td>NaN</td>\n",
       "    </tr>\n",
       "  </tbody>\n",
       "</table>\n",
       "</div>"
      ],
      "text/plain": [
       "                         images_count               \n",
       "caption_txt_not_detected            0       1      2\n",
       "caption_txt_detected                                \n",
       "1                              1062.0    32.0   12.0\n",
       "2                               809.0   118.0  104.0\n",
       "3                               682.0   511.0  578.0\n",
       "4                              2383.0  1631.0    NaN\n",
       "5                              8339.0     NaN    NaN"
      ]
     },
     "execution_count": 35,
     "metadata": {},
     "output_type": "execute_result"
    }
   ],
   "source": [
    "tr_caption_classify_unstack_dp = tr_caption_classify_dp.unstack()\n",
    "tr_caption_classify_unstack_dp.head()"
   ]
  },
  {
   "cell_type": "code",
   "execution_count": 36,
   "metadata": {},
   "outputs": [
    {
     "data": {
      "image/png": "[encoded data removed]",
      "text/plain": [
       "<Figure size 1080x432 with 1 Axes>"
      ]
     },
     "metadata": {
      "needs_background": "light"
     },
     "output_type": "display_data"
    }
   ],
   "source": [
    "ax = tr_caption_classify_unstack_dp.plot(kind='bar', use_index=True, figsize=(15, 6), stacked=True)\n",
    "ax.legend(['0', '1', '2'], title=\"Text not detected captions count\");\n",
    "ax.set_title('Classification of captions');\n",
    "ax.set_xlabel('Text detected captions count');\n",
    "ax.set_ylabel('Text detected images count');"
   ]
  },
  {
   "cell_type": "markdown",
   "metadata": {},
   "source": [
    "### 6.3.2 Validation"
   ]
  },
  {
   "cell_type": "code",
   "execution_count": 37,
   "metadata": {},
   "outputs": [
    {
     "data": {
      "text/html": [
       "<div>\n",
       "<style scoped>\n",
       "    .dataframe tbody tr th:only-of-type {\n",
       "        vertical-align: middle;\n",
       "    }\n",
       "\n",
       "    .dataframe tbody tr th {\n",
       "        vertical-align: top;\n",
       "    }\n",
       "\n",
       "    .dataframe thead tr th {\n",
       "        text-align: left;\n",
       "    }\n",
       "\n",
       "    .dataframe thead tr:last-of-type th {\n",
       "        text-align: right;\n",
       "    }\n",
       "</style>\n",
       "<table border=\"1\" class=\"dataframe\">\n",
       "  <thead>\n",
       "    <tr>\n",
       "      <th></th>\n",
       "      <th colspan=\"3\" halign=\"left\">images_count</th>\n",
       "    </tr>\n",
       "    <tr>\n",
       "      <th>caption_txt_not_detected</th>\n",
       "      <th>0</th>\n",
       "      <th>1</th>\n",
       "      <th>2</th>\n",
       "    </tr>\n",
       "    <tr>\n",
       "      <th>caption_txt_detected</th>\n",
       "      <th></th>\n",
       "      <th></th>\n",
       "      <th></th>\n",
       "    </tr>\n",
       "  </thead>\n",
       "  <tbody>\n",
       "    <tr>\n",
       "      <th>1</th>\n",
       "      <td>345.0</td>\n",
       "      <td>9.0</td>\n",
       "      <td>3.0</td>\n",
       "    </tr>\n",
       "    <tr>\n",
       "      <th>2</th>\n",
       "      <td>289.0</td>\n",
       "      <td>41.0</td>\n",
       "      <td>31.0</td>\n",
       "    </tr>\n",
       "    <tr>\n",
       "      <th>3</th>\n",
       "      <td>222.0</td>\n",
       "      <td>174.0</td>\n",
       "      <td>207.0</td>\n",
       "    </tr>\n",
       "    <tr>\n",
       "      <th>4</th>\n",
       "      <td>767.0</td>\n",
       "      <td>561.0</td>\n",
       "      <td>NaN</td>\n",
       "    </tr>\n",
       "    <tr>\n",
       "      <th>5</th>\n",
       "      <td>2882.0</td>\n",
       "      <td>NaN</td>\n",
       "      <td>NaN</td>\n",
       "    </tr>\n",
       "  </tbody>\n",
       "</table>\n",
       "</div>"
      ],
      "text/plain": [
       "                         images_count              \n",
       "caption_txt_not_detected            0      1      2\n",
       "caption_txt_detected                               \n",
       "1                               345.0    9.0    3.0\n",
       "2                               289.0   41.0   31.0\n",
       "3                               222.0  174.0  207.0\n",
       "4                               767.0  561.0    NaN\n",
       "5                              2882.0    NaN    NaN"
      ]
     },
     "execution_count": 37,
     "metadata": {},
     "output_type": "execute_result"
    }
   ],
   "source": [
    "v_caption_classify_unstack_dp = v_caption_classify_dp.unstack()\n",
    "v_caption_classify_unstack_dp.head()"
   ]
  },
  {
   "cell_type": "code",
   "execution_count": 38,
   "metadata": {},
   "outputs": [
    {
     "data": {
      "image/png": "[encoded data removed]",
      "text/plain": [
       "<Figure size 1080x432 with 1 Axes>"
      ]
     },
     "metadata": {
      "needs_background": "light"
     },
     "output_type": "display_data"
    }
   ],
   "source": [
    "ax = v_caption_classify_unstack_dp.plot(kind='bar', use_index=True, figsize=(15, 6), stacked=True)\n",
    "ax.legend(['0', '1', '2'], title=\"Text not detected captions count\");\n",
    "ax.set_title('Classification of captions');\n",
    "ax.set_xlabel('Text detected captions count');\n",
    "ax.set_ylabel('Text detected images count');"
   ]
  },
  {
   "cell_type": "markdown",
   "metadata": {},
   "source": [
    "# 7. Exclude low quality images and its captions\n",
    "\n",
    "In order to exclude low quality images and ensure each image has 5 captions, any images containing less than 5 captions are removed from the final dataset.\n",
    "\n",
    "## 7.1 Training"
   ]
  },
  {
   "cell_type": "code",
   "execution_count": 39,
   "metadata": {},
   "outputs": [],
   "source": [
    "headers = ['img_id', 'img_url', 'caption', 'img_txt_detected', 'caption_txt_detected']"
   ]
  },
  {
   "cell_type": "code",
   "execution_count": null,
   "metadata": {},
   "outputs": [],
   "source": [
    "tr_indexes_should_drop = tr_captionable_df.groupby('img_id').filter(lambda x: (x.shape[0] < 5)).index\n",
    "tr_result = tr_captionable_df.drop(index=tr_indexes_should_drop)\n",
    "tr_result.to_csv(r'../data/output/tr_data.csv', columns=headers, index=False)"
   ]
  },
  {
   "cell_type": "markdown",
   "metadata": {},
   "source": [
    "## 7.2 Validation"
   ]
  },
  {
   "cell_type": "code",
   "execution_count": null,
   "metadata": {},
   "outputs": [],
   "source": [
    "v_indexes_should_drop = v_captionable_df.groupby('img_id').filter(lambda x: (x.shape[0] < 5)).index\n",
    "v_result = v_captionable_df.drop(index=v_indexes_should_drop)\n",
    "v_result.to_csv(r'../data/output/v_data.csv', columns=headers, index=False)"
   ]
  }
 ],
 "metadata": {
  "kernelspec": {
   "display_name": "Python 3",
   "language": "python",
   "name": "python3"
  },
  "language_info": {
   "codemirror_mode": {
    "name": "ipython",
    "version": 3
   },
   "file_extension": ".py",
   "mimetype": "text/x-python",
   "name": "python",
   "nbconvert_exporter": "python",
   "pygments_lexer": "ipython3",
   "version": "3.7.6"
  }
 },
 "nbformat": 4,
 "nbformat_minor": 4
}
