{
 "cells": [
  {
   "cell_type": "markdown",
   "metadata": {},
   "source": [
    "## Create Dataframe"
   ]
  },
  {
   "cell_type": "code",
   "execution_count": 154,
   "metadata": {},
   "outputs": [],
   "source": [
    "import json\n",
    "import pandas as pd\n",
    "jsonData = json.load((open('annotations/val.json')))"
   ]
  },
  {
   "cell_type": "code",
   "execution_count": 155,
   "metadata": {},
   "outputs": [
    {
     "data": {
      "text/html": [
       "<div>\n",
       "<style scoped>\n",
       "    .dataframe tbody tr th:only-of-type {\n",
       "        vertical-align: middle;\n",
       "    }\n",
       "\n",
       "    .dataframe tbody tr th {\n",
       "        vertical-align: top;\n",
       "    }\n",
       "\n",
       "    .dataframe thead th {\n",
       "        text-align: right;\n",
       "    }\n",
       "</style>\n",
       "<table border=\"1\" class=\"dataframe\">\n",
       "  <thead>\n",
       "    <tr style=\"text-align: right;\">\n",
       "      <th></th>\n",
       "      <th>file_name</th>\n",
       "      <th>vizwiz_url</th>\n",
       "      <th>id</th>\n",
       "      <th>text_detected</th>\n",
       "    </tr>\n",
       "  </thead>\n",
       "  <tbody>\n",
       "    <tr>\n",
       "      <th>0</th>\n",
       "      <td>VizWiz_val_00000000.jpg</td>\n",
       "      <td>https://ivc.ischool.utexas.edu/VizWiz_visualiz...</td>\n",
       "      <td>23431</td>\n",
       "      <td>True</td>\n",
       "    </tr>\n",
       "    <tr>\n",
       "      <th>1</th>\n",
       "      <td>VizWiz_val_00000001.jpg</td>\n",
       "      <td>https://ivc.ischool.utexas.edu/VizWiz_visualiz...</td>\n",
       "      <td>23432</td>\n",
       "      <td>True</td>\n",
       "    </tr>\n",
       "    <tr>\n",
       "      <th>2</th>\n",
       "      <td>VizWiz_val_00000002.jpg</td>\n",
       "      <td>https://ivc.ischool.utexas.edu/VizWiz_visualiz...</td>\n",
       "      <td>23433</td>\n",
       "      <td>True</td>\n",
       "    </tr>\n",
       "    <tr>\n",
       "      <th>3</th>\n",
       "      <td>VizWiz_val_00000003.jpg</td>\n",
       "      <td>https://ivc.ischool.utexas.edu/VizWiz_visualiz...</td>\n",
       "      <td>23434</td>\n",
       "      <td>True</td>\n",
       "    </tr>\n",
       "    <tr>\n",
       "      <th>4</th>\n",
       "      <td>VizWiz_val_00000004.jpg</td>\n",
       "      <td>https://ivc.ischool.utexas.edu/VizWiz_visualiz...</td>\n",
       "      <td>23435</td>\n",
       "      <td>True</td>\n",
       "    </tr>\n",
       "  </tbody>\n",
       "</table>\n",
       "</div>"
      ],
      "text/plain": [
       "                 file_name                                         vizwiz_url  \\\n",
       "0  VizWiz_val_00000000.jpg  https://ivc.ischool.utexas.edu/VizWiz_visualiz...   \n",
       "1  VizWiz_val_00000001.jpg  https://ivc.ischool.utexas.edu/VizWiz_visualiz...   \n",
       "2  VizWiz_val_00000002.jpg  https://ivc.ischool.utexas.edu/VizWiz_visualiz...   \n",
       "3  VizWiz_val_00000003.jpg  https://ivc.ischool.utexas.edu/VizWiz_visualiz...   \n",
       "4  VizWiz_val_00000004.jpg  https://ivc.ischool.utexas.edu/VizWiz_visualiz...   \n",
       "\n",
       "      id  text_detected  \n",
       "0  23431           True  \n",
       "1  23432           True  \n",
       "2  23433           True  \n",
       "3  23434           True  \n",
       "4  23435           True  "
      ]
     },
     "execution_count": 155,
     "metadata": {},
     "output_type": "execute_result"
    }
   ],
   "source": [
    "imagesData = jsonData['images']\n",
    "orig_images_df = pd.DataFrame(imagesData)\n",
    "orig_images_df.head()"
   ]
  },
  {
   "cell_type": "code",
   "execution_count": 156,
   "metadata": {},
   "outputs": [
    {
     "data": {
      "text/html": [
       "<div>\n",
       "<style scoped>\n",
       "    .dataframe tbody tr th:only-of-type {\n",
       "        vertical-align: middle;\n",
       "    }\n",
       "\n",
       "    .dataframe tbody tr th {\n",
       "        vertical-align: top;\n",
       "    }\n",
       "\n",
       "    .dataframe thead th {\n",
       "        text-align: right;\n",
       "    }\n",
       "</style>\n",
       "<table border=\"1\" class=\"dataframe\">\n",
       "  <thead>\n",
       "    <tr style=\"text-align: right;\">\n",
       "      <th></th>\n",
       "      <th>caption</th>\n",
       "      <th>image_id</th>\n",
       "      <th>is_precanned</th>\n",
       "      <th>is_rejected</th>\n",
       "      <th>id</th>\n",
       "      <th>text_detected</th>\n",
       "    </tr>\n",
       "  </thead>\n",
       "  <tbody>\n",
       "    <tr>\n",
       "      <th>0</th>\n",
       "      <td>A computer screen shows a repair prompt on the...</td>\n",
       "      <td>23431</td>\n",
       "      <td>False</td>\n",
       "      <td>False</td>\n",
       "      <td>117155</td>\n",
       "      <td>True</td>\n",
       "    </tr>\n",
       "    <tr>\n",
       "      <th>1</th>\n",
       "      <td>a computer screen with a repair automatically ...</td>\n",
       "      <td>23431</td>\n",
       "      <td>False</td>\n",
       "      <td>False</td>\n",
       "      <td>117156</td>\n",
       "      <td>True</td>\n",
       "    </tr>\n",
       "    <tr>\n",
       "      <th>2</th>\n",
       "      <td>partial computer screen showing the need of re...</td>\n",
       "      <td>23431</td>\n",
       "      <td>False</td>\n",
       "      <td>False</td>\n",
       "      <td>117157</td>\n",
       "      <td>True</td>\n",
       "    </tr>\n",
       "    <tr>\n",
       "      <th>3</th>\n",
       "      <td>Part of a computer monitor showing a computer ...</td>\n",
       "      <td>23431</td>\n",
       "      <td>False</td>\n",
       "      <td>False</td>\n",
       "      <td>117158</td>\n",
       "      <td>True</td>\n",
       "    </tr>\n",
       "    <tr>\n",
       "      <th>4</th>\n",
       "      <td>The top of a laptop with a blue background and...</td>\n",
       "      <td>23431</td>\n",
       "      <td>False</td>\n",
       "      <td>False</td>\n",
       "      <td>117159</td>\n",
       "      <td>True</td>\n",
       "    </tr>\n",
       "  </tbody>\n",
       "</table>\n",
       "</div>"
      ],
      "text/plain": [
       "                                             caption  image_id  is_precanned  \\\n",
       "0  A computer screen shows a repair prompt on the...     23431         False   \n",
       "1  a computer screen with a repair automatically ...     23431         False   \n",
       "2  partial computer screen showing the need of re...     23431         False   \n",
       "3  Part of a computer monitor showing a computer ...     23431         False   \n",
       "4  The top of a laptop with a blue background and...     23431         False   \n",
       "\n",
       "   is_rejected      id  text_detected  \n",
       "0        False  117155           True  \n",
       "1        False  117156           True  \n",
       "2        False  117157           True  \n",
       "3        False  117158           True  \n",
       "4        False  117159           True  "
      ]
     },
     "execution_count": 156,
     "metadata": {},
     "output_type": "execute_result"
    }
   ],
   "source": [
    "annotationsData = jsonData['annotations']\n",
    "orig_annotations_df = pd.DataFrame(annotationsData)\n",
    "orig_annotations_df.head()"
   ]
  },
  {
   "cell_type": "markdown",
   "metadata": {},
   "source": [
    "## Filter Dataframe"
   ]
  },
  {
   "cell_type": "code",
   "execution_count": 157,
   "metadata": {},
   "outputs": [
    {
     "data": {
      "text/html": [
       "<div>\n",
       "<style scoped>\n",
       "    .dataframe tbody tr th:only-of-type {\n",
       "        vertical-align: middle;\n",
       "    }\n",
       "\n",
       "    .dataframe tbody tr th {\n",
       "        vertical-align: top;\n",
       "    }\n",
       "\n",
       "    .dataframe thead th {\n",
       "        text-align: right;\n",
       "    }\n",
       "</style>\n",
       "<table border=\"1\" class=\"dataframe\">\n",
       "  <thead>\n",
       "    <tr style=\"text-align: right;\">\n",
       "      <th></th>\n",
       "      <th>image_url</th>\n",
       "      <th>text_detected</th>\n",
       "    </tr>\n",
       "    <tr>\n",
       "      <th>image_id</th>\n",
       "      <th></th>\n",
       "      <th></th>\n",
       "    </tr>\n",
       "  </thead>\n",
       "  <tbody>\n",
       "    <tr>\n",
       "      <th>23431</th>\n",
       "      <td>https://ivc.ischool.utexas.edu/VizWiz_visualiz...</td>\n",
       "      <td>True</td>\n",
       "    </tr>\n",
       "    <tr>\n",
       "      <th>23432</th>\n",
       "      <td>https://ivc.ischool.utexas.edu/VizWiz_visualiz...</td>\n",
       "      <td>True</td>\n",
       "    </tr>\n",
       "    <tr>\n",
       "      <th>23433</th>\n",
       "      <td>https://ivc.ischool.utexas.edu/VizWiz_visualiz...</td>\n",
       "      <td>True</td>\n",
       "    </tr>\n",
       "    <tr>\n",
       "      <th>23434</th>\n",
       "      <td>https://ivc.ischool.utexas.edu/VizWiz_visualiz...</td>\n",
       "      <td>True</td>\n",
       "    </tr>\n",
       "    <tr>\n",
       "      <th>23435</th>\n",
       "      <td>https://ivc.ischool.utexas.edu/VizWiz_visualiz...</td>\n",
       "      <td>True</td>\n",
       "    </tr>\n",
       "  </tbody>\n",
       "</table>\n",
       "</div>"
      ],
      "text/plain": [
       "                                                  image_url  text_detected\n",
       "image_id                                                                  \n",
       "23431     https://ivc.ischool.utexas.edu/VizWiz_visualiz...           True\n",
       "23432     https://ivc.ischool.utexas.edu/VizWiz_visualiz...           True\n",
       "23433     https://ivc.ischool.utexas.edu/VizWiz_visualiz...           True\n",
       "23434     https://ivc.ischool.utexas.edu/VizWiz_visualiz...           True\n",
       "23435     https://ivc.ischool.utexas.edu/VizWiz_visualiz...           True"
      ]
     },
     "execution_count": 157,
     "metadata": {},
     "output_type": "execute_result"
    }
   ],
   "source": [
    "images_df = orig_images_df.filter(['id','vizwiz_url','text_detected'], axis=1)\n",
    "images_df.rename(columns={'id': 'image_id', 'vizwiz_url': 'image_url'}, inplace=True)\n",
    "images_df.set_index('image_id', inplace=True)\n",
    "images_df.head()"
   ]
  },
  {
   "cell_type": "code",
   "execution_count": 158,
   "metadata": {},
   "outputs": [
    {
     "data": {
      "text/html": [
       "<div>\n",
       "<style scoped>\n",
       "    .dataframe tbody tr th:only-of-type {\n",
       "        vertical-align: middle;\n",
       "    }\n",
       "\n",
       "    .dataframe tbody tr th {\n",
       "        vertical-align: top;\n",
       "    }\n",
       "\n",
       "    .dataframe thead th {\n",
       "        text-align: right;\n",
       "    }\n",
       "</style>\n",
       "<table border=\"1\" class=\"dataframe\">\n",
       "  <thead>\n",
       "    <tr style=\"text-align: right;\">\n",
       "      <th></th>\n",
       "      <th>caption</th>\n",
       "    </tr>\n",
       "    <tr>\n",
       "      <th>image_id</th>\n",
       "      <th></th>\n",
       "    </tr>\n",
       "  </thead>\n",
       "  <tbody>\n",
       "    <tr>\n",
       "      <th>23431</th>\n",
       "      <td>A computer screen shows a repair prompt on the...</td>\n",
       "    </tr>\n",
       "    <tr>\n",
       "      <th>23431</th>\n",
       "      <td>a computer screen with a repair automatically ...</td>\n",
       "    </tr>\n",
       "    <tr>\n",
       "      <th>23431</th>\n",
       "      <td>partial computer screen showing the need of re...</td>\n",
       "    </tr>\n",
       "    <tr>\n",
       "      <th>23431</th>\n",
       "      <td>Part of a computer monitor showing a computer ...</td>\n",
       "    </tr>\n",
       "    <tr>\n",
       "      <th>23431</th>\n",
       "      <td>The top of a laptop with a blue background and...</td>\n",
       "    </tr>\n",
       "  </tbody>\n",
       "</table>\n",
       "</div>"
      ],
      "text/plain": [
       "                                                    caption\n",
       "image_id                                                   \n",
       "23431     A computer screen shows a repair prompt on the...\n",
       "23431     a computer screen with a repair automatically ...\n",
       "23431     partial computer screen showing the need of re...\n",
       "23431     Part of a computer monitor showing a computer ...\n",
       "23431     The top of a laptop with a blue background and..."
      ]
     },
     "execution_count": 158,
     "metadata": {},
     "output_type": "execute_result"
    }
   ],
   "source": [
    "annotations_df = orig_annotations_df.filter(['image_id','caption'], axis=1)\n",
    "annotations_df.set_index('image_id', inplace=True)\n",
    "annotations_df.head()"
   ]
  },
  {
   "cell_type": "markdown",
   "metadata": {},
   "source": [
    "## Merge Dataframe"
   ]
  },
  {
   "cell_type": "code",
   "execution_count": 159,
   "metadata": {},
   "outputs": [
    {
     "data": {
      "text/html": [
       "<div>\n",
       "<style scoped>\n",
       "    .dataframe tbody tr th:only-of-type {\n",
       "        vertical-align: middle;\n",
       "    }\n",
       "\n",
       "    .dataframe tbody tr th {\n",
       "        vertical-align: top;\n",
       "    }\n",
       "\n",
       "    .dataframe thead th {\n",
       "        text-align: right;\n",
       "    }\n",
       "</style>\n",
       "<table border=\"1\" class=\"dataframe\">\n",
       "  <thead>\n",
       "    <tr style=\"text-align: right;\">\n",
       "      <th></th>\n",
       "      <th>image_url</th>\n",
       "      <th>text_detected</th>\n",
       "      <th>caption</th>\n",
       "    </tr>\n",
       "    <tr>\n",
       "      <th>image_id</th>\n",
       "      <th></th>\n",
       "      <th></th>\n",
       "      <th></th>\n",
       "    </tr>\n",
       "  </thead>\n",
       "  <tbody>\n",
       "    <tr>\n",
       "      <th>23431</th>\n",
       "      <td>https://ivc.ischool.utexas.edu/VizWiz_visualiz...</td>\n",
       "      <td>True</td>\n",
       "      <td>A computer screen shows a repair prompt on the...</td>\n",
       "    </tr>\n",
       "    <tr>\n",
       "      <th>23431</th>\n",
       "      <td>https://ivc.ischool.utexas.edu/VizWiz_visualiz...</td>\n",
       "      <td>True</td>\n",
       "      <td>a computer screen with a repair automatically ...</td>\n",
       "    </tr>\n",
       "    <tr>\n",
       "      <th>23431</th>\n",
       "      <td>https://ivc.ischool.utexas.edu/VizWiz_visualiz...</td>\n",
       "      <td>True</td>\n",
       "      <td>partial computer screen showing the need of re...</td>\n",
       "    </tr>\n",
       "    <tr>\n",
       "      <th>23431</th>\n",
       "      <td>https://ivc.ischool.utexas.edu/VizWiz_visualiz...</td>\n",
       "      <td>True</td>\n",
       "      <td>Part of a computer monitor showing a computer ...</td>\n",
       "    </tr>\n",
       "    <tr>\n",
       "      <th>23431</th>\n",
       "      <td>https://ivc.ischool.utexas.edu/VizWiz_visualiz...</td>\n",
       "      <td>True</td>\n",
       "      <td>The top of a laptop with a blue background and...</td>\n",
       "    </tr>\n",
       "  </tbody>\n",
       "</table>\n",
       "</div>"
      ],
      "text/plain": [
       "                                                  image_url  text_detected  \\\n",
       "image_id                                                                     \n",
       "23431     https://ivc.ischool.utexas.edu/VizWiz_visualiz...           True   \n",
       "23431     https://ivc.ischool.utexas.edu/VizWiz_visualiz...           True   \n",
       "23431     https://ivc.ischool.utexas.edu/VizWiz_visualiz...           True   \n",
       "23431     https://ivc.ischool.utexas.edu/VizWiz_visualiz...           True   \n",
       "23431     https://ivc.ischool.utexas.edu/VizWiz_visualiz...           True   \n",
       "\n",
       "                                                    caption  \n",
       "image_id                                                     \n",
       "23431     A computer screen shows a repair prompt on the...  \n",
       "23431     a computer screen with a repair automatically ...  \n",
       "23431     partial computer screen showing the need of re...  \n",
       "23431     Part of a computer monitor showing a computer ...  \n",
       "23431     The top of a laptop with a blue background and...  "
      ]
     },
     "execution_count": 159,
     "metadata": {},
     "output_type": "execute_result"
    }
   ],
   "source": [
    "captions_df = images_df.merge(annotations_df, how='inner', on='image_id')\n",
    "captions_df.head()"
   ]
  },
  {
   "cell_type": "markdown",
   "metadata": {},
   "source": [
    "## Group Data"
   ]
  },
  {
   "cell_type": "code",
   "execution_count": 160,
   "metadata": {},
   "outputs": [
    {
     "data": {
      "text/html": [
       "<div>\n",
       "<style scoped>\n",
       "    .dataframe tbody tr th:only-of-type {\n",
       "        vertical-align: middle;\n",
       "    }\n",
       "\n",
       "    .dataframe tbody tr th {\n",
       "        vertical-align: top;\n",
       "    }\n",
       "\n",
       "    .dataframe thead th {\n",
       "        text-align: right;\n",
       "    }\n",
       "</style>\n",
       "<table border=\"1\" class=\"dataframe\">\n",
       "  <thead>\n",
       "    <tr style=\"text-align: right;\">\n",
       "      <th></th>\n",
       "      <th>image_url</th>\n",
       "      <th>text_detected</th>\n",
       "      <th>caption</th>\n",
       "    </tr>\n",
       "    <tr>\n",
       "      <th>image_id</th>\n",
       "      <th></th>\n",
       "      <th></th>\n",
       "      <th></th>\n",
       "    </tr>\n",
       "  </thead>\n",
       "  <tbody>\n",
       "    <tr>\n",
       "      <th>23431</th>\n",
       "      <td>https://ivc.ischool.utexas.edu/VizWiz_visualiz...</td>\n",
       "      <td>True</td>\n",
       "      <td>A computer screen shows a repair prompt on the...</td>\n",
       "    </tr>\n",
       "    <tr>\n",
       "      <th>23431</th>\n",
       "      <td>https://ivc.ischool.utexas.edu/VizWiz_visualiz...</td>\n",
       "      <td>True</td>\n",
       "      <td>a computer screen with a repair automatically ...</td>\n",
       "    </tr>\n",
       "    <tr>\n",
       "      <th>23431</th>\n",
       "      <td>https://ivc.ischool.utexas.edu/VizWiz_visualiz...</td>\n",
       "      <td>True</td>\n",
       "      <td>partial computer screen showing the need of re...</td>\n",
       "    </tr>\n",
       "    <tr>\n",
       "      <th>23431</th>\n",
       "      <td>https://ivc.ischool.utexas.edu/VizWiz_visualiz...</td>\n",
       "      <td>True</td>\n",
       "      <td>Part of a computer monitor showing a computer ...</td>\n",
       "    </tr>\n",
       "    <tr>\n",
       "      <th>23431</th>\n",
       "      <td>https://ivc.ischool.utexas.edu/VizWiz_visualiz...</td>\n",
       "      <td>True</td>\n",
       "      <td>The top of a laptop with a blue background and...</td>\n",
       "    </tr>\n",
       "    <tr>\n",
       "      <th>...</th>\n",
       "      <td>...</td>\n",
       "      <td>...</td>\n",
       "      <td>...</td>\n",
       "    </tr>\n",
       "    <tr>\n",
       "      <th>31180</th>\n",
       "      <td>https://ivc.ischool.utexas.edu/VizWiz_visualiz...</td>\n",
       "      <td>True</td>\n",
       "      <td>A  closeup of fiat with a value of 10 on a kit...</td>\n",
       "    </tr>\n",
       "    <tr>\n",
       "      <th>31180</th>\n",
       "      <td>https://ivc.ischool.utexas.edu/VizWiz_visualiz...</td>\n",
       "      <td>True</td>\n",
       "      <td>a single piece of Australian currency sitting ...</td>\n",
       "    </tr>\n",
       "    <tr>\n",
       "      <th>31180</th>\n",
       "      <td>https://ivc.ischool.utexas.edu/VizWiz_visualiz...</td>\n",
       "      <td>True</td>\n",
       "      <td>An Australian monetary bill with the value of ...</td>\n",
       "    </tr>\n",
       "    <tr>\n",
       "      <th>31180</th>\n",
       "      <td>https://ivc.ischool.utexas.edu/VizWiz_visualiz...</td>\n",
       "      <td>True</td>\n",
       "      <td>An Australian ten dollar bill sitting on a bro...</td>\n",
       "    </tr>\n",
       "    <tr>\n",
       "      <th>31180</th>\n",
       "      <td>https://ivc.ischool.utexas.edu/VizWiz_visualiz...</td>\n",
       "      <td>True</td>\n",
       "      <td>A 10 dollar bill for Australia, has a woman's ...</td>\n",
       "    </tr>\n",
       "  </tbody>\n",
       "</table>\n",
       "<p>38750 rows × 3 columns</p>\n",
       "</div>"
      ],
      "text/plain": [
       "                                                  image_url  text_detected  \\\n",
       "image_id                                                                     \n",
       "23431     https://ivc.ischool.utexas.edu/VizWiz_visualiz...           True   \n",
       "23431     https://ivc.ischool.utexas.edu/VizWiz_visualiz...           True   \n",
       "23431     https://ivc.ischool.utexas.edu/VizWiz_visualiz...           True   \n",
       "23431     https://ivc.ischool.utexas.edu/VizWiz_visualiz...           True   \n",
       "23431     https://ivc.ischool.utexas.edu/VizWiz_visualiz...           True   \n",
       "...                                                     ...            ...   \n",
       "31180     https://ivc.ischool.utexas.edu/VizWiz_visualiz...           True   \n",
       "31180     https://ivc.ischool.utexas.edu/VizWiz_visualiz...           True   \n",
       "31180     https://ivc.ischool.utexas.edu/VizWiz_visualiz...           True   \n",
       "31180     https://ivc.ischool.utexas.edu/VizWiz_visualiz...           True   \n",
       "31180     https://ivc.ischool.utexas.edu/VizWiz_visualiz...           True   \n",
       "\n",
       "                                                    caption  \n",
       "image_id                                                     \n",
       "23431     A computer screen shows a repair prompt on the...  \n",
       "23431     a computer screen with a repair automatically ...  \n",
       "23431     partial computer screen showing the need of re...  \n",
       "23431     Part of a computer monitor showing a computer ...  \n",
       "23431     The top of a laptop with a blue background and...  \n",
       "...                                                     ...  \n",
       "31180     A  closeup of fiat with a value of 10 on a kit...  \n",
       "31180     a single piece of Australian currency sitting ...  \n",
       "31180     An Australian monetary bill with the value of ...  \n",
       "31180     An Australian ten dollar bill sitting on a bro...  \n",
       "31180     A 10 dollar bill for Australia, has a woman's ...  \n",
       "\n",
       "[38750 rows x 3 columns]"
      ]
     },
     "execution_count": 160,
     "metadata": {},
     "output_type": "execute_result"
    }
   ],
   "source": [
    "grouped_captions = captions_df.groupby(['image_id'])\n",
    "grouped_captions.head()"
   ]
  },
  {
   "cell_type": "markdown",
   "metadata": {},
   "source": [
    "## Write Data to CSV"
   ]
  },
  {
   "cell_type": "code",
   "execution_count": 161,
   "metadata": {},
   "outputs": [],
   "source": [
    "captions_df.to_csv(r'captions.csv', index=True)"
   ]
  },
  {
   "cell_type": "markdown",
   "metadata": {},
   "source": [
    "## Data Visualization"
   ]
  },
  {
   "cell_type": "code",
   "execution_count": 162,
   "metadata": {},
   "outputs": [],
   "source": [
    "import matplotlib.pyplot as plt\n",
    "\n",
    "%matplotlib inline"
   ]
  },
  {
   "cell_type": "code",
   "execution_count": 163,
   "metadata": {},
   "outputs": [
    {
     "data": {
      "image/png": "[encoded data removed]",
      "text/plain": [
       "<Figure size 432x288 with 1 Axes>"
      ]
     },
     "metadata": {
      "needs_background": "light"
     },
     "output_type": "display_data"
    },
    {
     "data": {
      "text/plain": [
       "''"
      ]
     },
     "execution_count": 163,
     "metadata": {},
     "output_type": "execute_result"
    }
   ],
   "source": [
    "df = captions_df.text_detected.value_counts()\n",
    "df.plot.barh()\n",
    "plt.title('How many images has text in it?')\n",
    "plt.xlabel(\"No. of images\")\n",
    "plt.ylabel(\"Contains text\")\n",
    "plt.show()\n",
    ";"
   ]
  },
  {
   "cell_type": "code",
   "execution_count": null,
   "metadata": {},
   "outputs": [],
   "source": []
  }
 ],
 "metadata": {
  "kernelspec": {
   "display_name": "Python 3",
   "language": "python",
   "name": "python3"
  },
  "language_info": {
   "codemirror_mode": {
    "name": "ipython",
    "version": 3
   },
   "file_extension": ".py",
   "mimetype": "text/x-python",
   "name": "python",
   "nbconvert_exporter": "python",
   "pygments_lexer": "ipython3",
   "version": "3.7.6"
  }
 },
 "nbformat": 4,
 "nbformat_minor": 4
}
