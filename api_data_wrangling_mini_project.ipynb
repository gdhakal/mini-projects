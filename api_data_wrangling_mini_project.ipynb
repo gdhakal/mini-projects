{
 "cells": [
  {
   "cell_type": "markdown",
   "metadata": {},
   "source": [
    "This exercise will require you to pull some data from the Qunadl API. Qaundl is currently the most widely used aggregator of financial market data."
   ]
  },
  {
   "cell_type": "markdown",
   "metadata": {},
   "source": [
    "As a first step, you will need to register a free account on the http://www.quandl.com website."
   ]
  },
  {
   "cell_type": "markdown",
   "metadata": {},
   "source": [
    "After you register, you will be provided with a unique API key, that you should store:"
   ]
  },
  {
   "cell_type": "code",
   "execution_count": 2,
   "metadata": {
    "jupyter": {
     "outputs_hidden": true
    }
   },
   "outputs": [],
   "source": [
    "# Store the API key as a string - according to PEP8, constants are always named in all upper case\n",
    "API_KEY = ''"
   ]
  },
  {
   "cell_type": "markdown",
   "metadata": {},
   "source": [
    "Qaundl has a large number of data sources, but, unfortunately, most of them require a Premium subscription. Still, there are also a good number of free datasets."
   ]
  },
  {
   "cell_type": "markdown",
   "metadata": {},
   "source": [
    "For this mini project, we will focus on equities data from the Frankfurt Stock Exhange (FSE), which is available for free. We'll try and analyze the stock prices of a company called Carl Zeiss Meditec, which manufactures tools for eye examinations, as well as medical lasers for laser eye surgery: https://www.zeiss.com/meditec/int/home.html. The company is listed under the stock ticker AFX_X."
   ]
  },
  {
   "cell_type": "markdown",
   "metadata": {},
   "source": [
    "You can find the detailed Quandl API instructions here: https://docs.quandl.com/docs/time-series"
   ]
  },
  {
   "cell_type": "markdown",
   "metadata": {},
   "source": [
    "While there is a dedicated Python package for connecting to the Quandl API, we would prefer that you use the *requests* package, which can be easily downloaded using *pip* or *conda*. You can find the documentation for the package here: http://docs.python-requests.org/en/master/ "
   ]
  },
  {
   "cell_type": "markdown",
   "metadata": {},
   "source": [
    "Finally, apart from the *requests* package, you are encouraged to not use any third party Python packages, such as *pandas*, and instead focus on what's available in the Python Standard Library (the *collections* module might come in handy: https://pymotw.com/3/collections/).\n",
    "Also, since you won't have access to DataFrames, you are encouraged to us Python's native data structures - preferably dictionaries, though some questions can also be answered using lists.\n",
    "You can read more on these data structures here: https://docs.python.org/3/tutorial/datastructures.html"
   ]
  },
  {
   "cell_type": "markdown",
   "metadata": {},
   "source": [
    "Keep in mind that the JSON responses you will be getting from the API map almost one-to-one to Python's dictionaries. Unfortunately, they can be very nested, so make sure you read up on indexing dictionaries in the documentation provided above."
   ]
  },
  {
   "cell_type": "code",
   "execution_count": 3,
   "metadata": {
    "jupyter": {
     "outputs_hidden": true
    }
   },
   "outputs": [],
   "source": [
    "# First, import the relevant modules\n",
    "import requests"
   ]
  },
  {
   "cell_type": "code",
   "execution_count": 4,
   "metadata": {
    "jupyter": {
     "outputs_hidden": true
    }
   },
   "outputs": [
    {
     "name": "stdout",
     "output_type": "stream",
     "text": [
      "{'dataset_data': {'limit': 1, 'transform': None, 'column_index': None, 'column_names': ['Date', 'Open', 'High', 'Low', 'Close', 'Change', 'Traded Volume', 'Turnover', 'Last Price of the Day', 'Daily Traded Units', 'Daily Turnover'], 'start_date': '2000-06-07', 'end_date': '2020-07-23', 'frequency': 'daily', 'data': [['2020-07-23', 88.4, 91.55, 88.15, 91.55, None, 146866.0, 13280553.85, None, None, None]], 'collapse': None, 'order': None}}\n"
     ]
    }
   ],
   "source": [
    "# Now, call the Quandl API and pull out a small sample of the data (only one day) to get a glimpse\n",
    "# into the JSON structure that will be returned\n",
    "url = 'https://www.quandl.com/api/v3/datasets/FSE/AFX_X/data.json'\n",
    "params = {'api_key': API_KEY, 'limit': 1 }\n",
    "\n",
    "request = requests.get(url, params = params)\n",
    "json_data = request.json()\n",
    "print(json_data)"
   ]
  },
  {
   "cell_type": "code",
   "execution_count": 5,
   "metadata": {
    "jupyter": {
     "outputs_hidden": true
    }
   },
   "outputs": [
    {
     "name": "stdout",
     "output_type": "stream",
     "text": [
      "dataset is a <class 'dict'> with dict_keys(['limit', 'transform', 'column_index', 'column_names', 'start_date', 'end_date', 'frequency', 'data', 'collapse', 'order']).\n",
      "\n",
      "dataset contains data from 2000-06-07 to 2020-07-23.\n",
      "\n",
      "columns names: ['Date', 'Open', 'High', 'Low', 'Close', 'Change', 'Traded Volume', 'Turnover', 'Last Price of the Day', 'Daily Traded Units', 'Daily Turnover']\n",
      "\n",
      "rows is a <class 'list'>. total rows: 1\n",
      "Each entry in a row is <class 'list'>\n",
      "Data in the column name 'High' from the first row: 91.55\n",
      "Data in the column name 'Low' from the first row: 88.15\n"
     ]
    }
   ],
   "source": [
    "# Inspect the JSON structure of the object you created, and take note of how nested it is,\n",
    "# as well as the overall structure\n",
    "dataset = json_data['dataset_data']\n",
    "print(f\"dataset is a {type(dataset)} with {dataset.keys()}.\\n\")\n",
    "print(f\"dataset contains data from {dataset['start_date']} to {dataset['end_date']}.\\n\")\n",
    "\n",
    "print(f\"columns names: {dataset['column_names']}\\n\")\n",
    "\n",
    "rows = dataset['data']\n",
    "print(f\"rows is a {type(rows)}. total rows: {len(rows)}\")\n",
    "first_row = rows[0]\n",
    "print(f\"Each entry in a row is {type(first_row)}\")\n",
    "print(f\"Data in the column name 'High' from the first row: {first_row[2]}\")\n",
    "print(f\"Data in the column name 'Low' from the first row: {first_row[3]}\")"
   ]
  },
  {
   "cell_type": "markdown",
   "metadata": {},
   "source": [
    "These are your tasks for this mini project:\n",
    "\n",
    "1. Collect data from the Franfurt Stock Exchange, for the ticker AFX_X, for the whole year 2017 (keep in mind that the date format is YYYY-MM-DD).\n",
    "2. Convert the returned JSON object into a Python dictionary.\n",
    "3. Calculate what the highest and lowest opening prices were for the stock in this period.\n",
    "4. What was the largest change in any one day (based on High and Low price)?\n",
    "5. What was the largest change between any two days (based on Closing Price)?\n",
    "6. What was the average daily trading volume during this year?\n",
    "7. (Optional) What was the median trading volume during this year. (Note: you may need to implement your own function for calculating the median.)"
   ]
  },
  {
   "cell_type": "code",
   "execution_count": 6,
   "metadata": {
    "jupyter": {
     "outputs_hidden": true
    }
   },
   "outputs": [],
   "source": [
    "params = {'api_key': API_KEY, 'start_date': '2017-01-01', 'end_date': '2017-12-31' }\n",
    "request = requests.get(url, params = params)\n",
    "json_data = request.json()\n",
    "dataset = json_data['dataset_data']\n",
    "rows = dataset['data']"
   ]
  },
  {
   "cell_type": "code",
   "execution_count": 7,
   "metadata": {},
   "outputs": [
    {
     "name": "stdout",
     "output_type": "stream",
     "text": [
      "The highest opening price in 2017 was $53.11 per share. \n",
      "The lowest opening price in 2017 was $34.00 per share.\n"
     ]
    }
   ],
   "source": [
    "opening_prices = [row[1] for row in rows if row[1] is not None]\n",
    "max_opening_price = max(opening_prices)\n",
    "min_opening_price = min(opening_prices)\n",
    "\n",
    "print('''The highest opening price in 2017 was ${high_price:.2f} per share. \n",
    "The lowest opening price in 2017 was ${low_price:.2f} per share.''' \\\n",
    "      .format(high_price = round(max_opening_price, 2), low_price = round(min_opening_price, 2)))"
   ]
  },
  {
   "cell_type": "code",
   "execution_count": 8,
   "metadata": {},
   "outputs": [
    {
     "name": "stdout",
     "output_type": "stream",
     "text": [
      "The largest daily price change in 2017 was Δ$2.81 per share.\n"
     ]
    }
   ],
   "source": [
    "deltas = [row[2] - row[3] for row in rows if row[2] is not None and row[3] is not None]\n",
    "max_delta = max(deltas)\n",
    "\n",
    "print(\"The largest daily price change in 2017 was {symbol}${price:.2f} per share.\"\\\n",
    "      .format(symbol = u'\\u0394', price = round(max_delta, 2)))"
   ]
  },
  {
   "cell_type": "code",
   "execution_count": 9,
   "metadata": {},
   "outputs": [
    {
     "name": "stdout",
     "output_type": "stream",
     "text": [
      "The largest price change in 2017 between any two days was Δ$2.56 per share.\n"
     ]
    }
   ],
   "source": [
    "close_prices = [row[4] for row in rows if row[4] is not None]\n",
    "deltas = [close_prices[i+1] - close_prices[i] for i in range(1, len(close_prices) - 1)]\n",
    "max_delta = max(deltas)\n",
    "\n",
    "print(\"The largest price change in 2017 between any two days was {symbol}${price:.2f} per share.\"\\\n",
    "      .format(symbol = u'\\u0394', price = round(max_delta, 2)))"
   ]
  },
  {
   "cell_type": "code",
   "execution_count": 10,
   "metadata": {},
   "outputs": [],
   "source": [
    "trading_volumes = [row[6] for row in rows if row[6] is not None]\n",
    "count = len(trading_volumes)"
   ]
  },
  {
   "cell_type": "code",
   "execution_count": 11,
   "metadata": {},
   "outputs": [
    {
     "name": "stdout",
     "output_type": "stream",
     "text": [
      "The average daily trading volume in 2017 was 89124.337 shares.\n"
     ]
    }
   ],
   "source": [
    "average_volume = sum(trading_volumes)/count if count > 0 else 0\n",
    "\n",
    "print(\"The average daily trading volume in 2017 was {0} shares.\".format(round(average_volume, 3)))"
   ]
  },
  {
   "cell_type": "code",
   "execution_count": 12,
   "metadata": {},
   "outputs": [
    {
     "name": "stdout",
     "output_type": "stream",
     "text": [
      "The median trading volume in 2017 was 76286.0 shares.\n"
     ]
    }
   ],
   "source": [
    "sorted_volumes = sorted(trading_volumes)\n",
    "mid = int(count / 2)\n",
    "median = (sorted_volumes[mid - 1] + sorted_volumes[mid]) / 2 if count % 2 == 0 else sorted_volumes[mid]\n",
    "\n",
    "print(\"The median trading volume in 2017 was {0} shares.\".format(round(median, 3)))"
   ]
  }
 ],
 "metadata": {
  "kernelspec": {
   "display_name": "Python 3",
   "language": "python",
   "name": "python3"
  },
  "language_info": {
   "codemirror_mode": {
    "name": "ipython",
    "version": 3
   },
   "file_extension": ".py",
   "mimetype": "text/x-python",
   "name": "python",
   "nbconvert_exporter": "python",
   "pygments_lexer": "ipython3",
   "version": "3.7.6"
  }
 },
 "nbformat": 4,
 "nbformat_minor": 4
}
